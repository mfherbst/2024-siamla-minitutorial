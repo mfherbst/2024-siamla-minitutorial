{
 "cells": [
  {
   "cell_type": "markdown",
   "metadata": {},
   "source": [
    "# DFTK tour and eigensolvers\n",
    "\n",
    "*(adapted from the [DFTK documentation](https://docs.dftk.org/dev/guide/discretisation/))*"
   ]
  },
  {
   "cell_type": "markdown",
   "metadata": {},
   "source": [
    "## Some words about DFTK\n",
    "\n",
    "<img src=\"img/dftk_overview.png\" />\n",
    "\n",
    "- Code: https://dftk.org\n",
    "- Documentation: https://docs.dftk.org\n",
    "- Pretty much all examples also part of the docs"
   ]
  },
  {
   "cell_type": "markdown",
   "metadata": {},
   "source": [
    "## A first problem to look at\n",
    "\n",
    "We start simple and consider the *linear* Hamiltonian\n",
    "$$\n",
    "   H = - \\frac12 Δ + V(x) \\quad \\text{with $V(x) = \\cos(x)$}\n",
    "$$\n",
    "on $[0, 2π]$ with periodic boundary conditions.\n",
    "In this problem the $\\cos(x)$ takes the role of\n",
    "a lattice-periodic potential and we are asked to solve a simple eigenproblem\n",
    "$$\n",
    "    H \\psi_n = ε_n \\psi_n \\qquad \\langle \\psi_n, \\psi_m\\rangle = δ_{mn}\n",
    "$$\n",
    "for the smallest eigenvalue."
   ]
  },
  {
   "cell_type": "markdown",
   "metadata": {},
   "source": [
    "The DFTK code uses plane waves as discussed in Antoine's lecture.\n",
    "We tuhs expand states $\\psi_n$ on the basis\n",
    "$$\n",
    "   e_G(x) = \\frac{1}{\\sqrt{2\\pi}} e^{iGx} \\qquad \\text{for $G=-N,\\dots,N$}.\n",
    "$$\n",
    "\n",
    "To deal with a 1D case we use a 3D lattice with two lattice vectors set to zero."
   ]
  },
  {
   "cell_type": "code",
   "execution_count": 1,
   "metadata": {},
   "outputs": [],
   "source": [
    "using DFTK\n",
    "a = 2π\n",
    "lattice = a .* [[1 0 0.]; [0 0 0]; [0 0 0]];"
   ]
  },
  {
   "cell_type": "markdown",
   "metadata": {},
   "source": [
    "Define Hamiltonian: Kinetic + Potential"
   ]
  },
  {
   "cell_type": "code",
   "execution_count": 2,
   "metadata": {},
   "outputs": [],
   "source": [
    "terms = [Kinetic(),\n",
    "         ExternalFromReal(r -> cos(r[1]))]  # r is a vector of size 3\n",
    "model = Model(lattice; n_electrons=1, terms, spin_polarization=:spinless);  # One spinless electron"
   ]
  },
  {
   "cell_type": "markdown",
   "metadata": {},
   "source": [
    "Ecut defines the number of plane waves by selecting all those $G$, which satisfy\n",
    "the relationship $½ |G|^2 ≤ \\text{Ecut}$."
   ]
  },
  {
   "cell_type": "code",
   "execution_count": 3,
   "metadata": {},
   "outputs": [
    {
     "data": {
      "text/plain": [
       "PlaneWaveBasis discretization:\n",
       "    architecture         : DFTK.CPU()\n",
       "    num. mpi processes   : 1\n",
       "    num. julia threads   : 1\n",
       "    num. blas  threads   : 6\n",
       "    num. fft   threads   : 1\n",
       "\n",
       "    Ecut                 : 500.0 Ha\n",
       "    fft_size             : (135, 1, 1), 135 total points\n",
       "    kgrid                : MonkhorstPack([1, 1, 1])\n",
       "    num.   red. kpoints  : 1\n",
       "    num. irred. kpoints  : 1\n",
       "\n",
       "    Discretized Model(custom, 1D):\n",
       "        lattice (in Bohr)    : [6.28319   , 0         , 0         ]\n",
       "                               [0         , 0         , 0         ]\n",
       "                               [0         , 0         , 0         ]\n",
       "        unit cell volume     : 6.2832 Bohr\n",
       "    \n",
       "        num. electrons       : 1\n",
       "        spin polarization    : spinless\n",
       "        temperature          : 0 Ha\n",
       "    \n",
       "        terms                : Kinetic()\n",
       "                               ExternalFromReal(var\"#8#9\"())"
      ]
     },
     "execution_count": 3,
     "metadata": {},
     "output_type": "execute_result"
    }
   ],
   "source": [
    "Ecut = 500\n",
    "basis = PlaneWaveBasis(model; Ecut, kgrid=(1, 1, 1))"
   ]
  },
  {
   "cell_type": "markdown",
   "metadata": {},
   "source": [
    "We now seek the ground state. To better separate the two steps (SCF outer loop\n",
    "and diagonalization inner loop), we set the diagtol (the tolerance of the eigensolver)\n",
    "to a small value."
   ]
  },
  {
   "cell_type": "code",
   "execution_count": 4,
   "metadata": {},
   "outputs": [
    {
     "name": "stdout",
     "output_type": "stream",
     "text": [
      "n     Energy            log10(ΔE)   log10(Δρ)   Diag   Δtime\n",
      "---   ---------------   ---------   ---------   ----   ------\n",
      "  1   -0.535064852288                   -0.22   10.0    2.20s\n",
      "  2   -0.535064852288      -13.57       -0.91    1.0    1.85s\n",
      "  3   -0.535064852288      -15.35       -8.52    1.0   28.1ms\n"
     ]
    },
    {
     "data": {
      "text/plain": [
       "Energy breakdown (in Ha):\n",
       "    Kinetic             0.2090845 \n",
       "    ExternalFromReal    -0.7441493\n",
       "\n",
       "    total               -0.535064852288"
      ]
     },
     "execution_count": 4,
     "metadata": {},
     "output_type": "execute_result"
    }
   ],
   "source": [
    "scfres = self_consistent_field(basis; tol=1e-4)\n",
    "scfres.energies"
   ]
  },
  {
   "cell_type": "markdown",
   "metadata": {},
   "source": [
    "On this simple linear (non-interacting) model, the SCF converges in one step.\n",
    "The ground state energy of is simply the lowest eigenvalue, which we can easily check:"
   ]
  },
  {
   "cell_type": "code",
   "execution_count": 5,
   "metadata": {},
   "outputs": [
    {
     "data": {
      "text/plain": [
       "4-element Vector{Float64}:\n",
       " -0.5350648522878154\n",
       "  0.3433601283990823\n",
       "  0.8536343543208004\n",
       "  2.0569044598265043"
      ]
     },
     "execution_count": 5,
     "metadata": {},
     "output_type": "execute_result"
    }
   ],
   "source": [
    "scfres.eigenvalues[1]"
   ]
  },
  {
   "cell_type": "markdown",
   "metadata": {},
   "source": [
    "## Plotting\n",
    "We can also get the first eigenvector (in the plane wave basis) and plot it"
   ]
  },
  {
   "cell_type": "code",
   "execution_count": 6,
   "metadata": {},
   "outputs": [
    {
     "data": {
      "image/png": "[encoded data removed]",
      "image/svg+xml": [
       "<?xml version=\"1.0\" encoding=\"utf-8\"?>\n",
       "<svg xmlns=\"http://www.w3.org/2000/svg\" xmlns:xlink=\"http://www.w3.org/1999/xlink\" width=\"600\" height=\"400\" viewBox=\"0 0 2400 1600\">\n",
       "<defs>\n",
       "  <clipPath id=\"clip850\">\n",
       "    <rect x=\"0\" y=\"0\" width=\"2400\" height=\"1600\"/>\n",
       "  </clipPath>\n",
       "</defs>\n",
       "<path clip-path=\"url(#clip850)\" d=\"M0 1600 L2400 1600 L2400 0 L0 0  Z\" fill=\"#ffffff\" fill-rule=\"evenodd\" fill-opacity=\"1\"/>\n",
       "<defs>\n",
       "  <clipPath id=\"clip851\">\n",
       "    <rect x=\"480\" y=\"0\" width=\"1681\" height=\"1600\"/>\n",
       "  </clipPath>\n",
       "</defs>\n",
       "<path clip-path=\"url(#clip850)\" d=\"M156.598 1486.45 L2352.76 1486.45 L2352.76 47.2441 L156.598 47.2441  Z\" fill=\"#ffffff\" fill-rule=\"evenodd\" fill-opacity=\"1\"/>\n",
       "<defs>\n",
       "  <clipPath id=\"clip852\">\n",
       "    <rect x=\"156\" y=\"47\" width=\"2197\" height=\"1440\"/>\n",
       "  </clipPath>\n",
       "</defs>\n",
       "<polyline clip-path=\"url(#clip852)\" style=\"stroke:#000000; stroke-linecap:round; stroke-linejoin:round; stroke-width:2; stroke-opacity:0.1; fill:none\" points=\"203.292,1486.45 203.292,47.2441 \"/>\n",
       "<polyline clip-path=\"url(#clip852)\" style=\"stroke:#000000; stroke-linecap:round; stroke-linejoin:round; stroke-width:2; stroke-opacity:0.1; fill:none\" points=\"512.523,1486.45 512.523,47.2441 \"/>\n",
       "<polyline clip-path=\"url(#clip852)\" style=\"stroke:#000000; stroke-linecap:round; stroke-linejoin:round; stroke-width:2; stroke-opacity:0.1; fill:none\" points=\"821.754,1486.45 821.754,47.2441 \"/>\n",
       "<polyline clip-path=\"url(#clip852)\" style=\"stroke:#000000; stroke-linecap:round; stroke-linejoin:round; stroke-width:2; stroke-opacity:0.1; fill:none\" points=\"1130.98,1486.45 1130.98,47.2441 \"/>\n",
       "<polyline clip-path=\"url(#clip852)\" style=\"stroke:#000000; stroke-linecap:round; stroke-linejoin:round; stroke-width:2; stroke-opacity:0.1; fill:none\" points=\"1440.22,1486.45 1440.22,47.2441 \"/>\n",
       "<polyline clip-path=\"url(#clip852)\" style=\"stroke:#000000; stroke-linecap:round; stroke-linejoin:round; stroke-width:2; stroke-opacity:0.1; fill:none\" points=\"1749.45,1486.45 1749.45,47.2441 \"/>\n",
       "<polyline clip-path=\"url(#clip852)\" style=\"stroke:#000000; stroke-linecap:round; stroke-linejoin:round; stroke-width:2; stroke-opacity:0.1; fill:none\" points=\"2058.68,1486.45 2058.68,47.2441 \"/>\n",
       "<polyline clip-path=\"url(#clip850)\" style=\"stroke:#000000; stroke-linecap:round; stroke-linejoin:round; stroke-width:4; stroke-opacity:1; fill:none\" points=\"156.598,1486.45 2352.76,1486.45 \"/>\n",
       "<polyline clip-path=\"url(#clip850)\" style=\"stroke:#000000; stroke-linecap:round; stroke-linejoin:round; stroke-width:4; stroke-opacity:1; fill:none\" points=\"203.292,1486.45 203.292,1467.55 \"/>\n",
       "<polyline clip-path=\"url(#clip850)\" style=\"stroke:#000000; stroke-linecap:round; stroke-linejoin:round; stroke-width:4; stroke-opacity:1; fill:none\" points=\"512.523,1486.45 512.523,1467.55 \"/>\n",
       "<polyline clip-path=\"url(#clip850)\" style=\"stroke:#000000; stroke-linecap:round; stroke-linejoin:round; stroke-width:4; stroke-opacity:1; fill:none\" points=\"821.754,1486.45 821.754,1467.55 \"/>\n",
       "<polyline clip-path=\"url(#clip850)\" style=\"stroke:#000000; stroke-linecap:round; stroke-linejoin:round; stroke-width:4; stroke-opacity:1; fill:none\" points=\"1130.98,1486.45 1130.98,1467.55 \"/>\n",
       "<polyline clip-path=\"url(#clip850)\" style=\"stroke:#000000; stroke-linecap:round; stroke-linejoin:round; stroke-width:4; stroke-opacity:1; fill:none\" points=\"1440.22,1486.45 1440.22,1467.55 \"/>\n",
       "<polyline clip-path=\"url(#clip850)\" style=\"stroke:#000000; stroke-linecap:round; stroke-linejoin:round; stroke-width:4; stroke-opacity:1; fill:none\" points=\"1749.45,1486.45 1749.45,1467.55 \"/>\n",
       "<polyline clip-path=\"url(#clip850)\" style=\"stroke:#000000; stroke-linecap:round; stroke-linejoin:round; stroke-width:4; stroke-opacity:1; fill:none\" points=\"2058.68,1486.45 2058.68,1467.55 \"/>\n",
       "<path clip-path=\"url(#clip850)\" d=\"M203.292 1517.37 Q199.681 1517.37 197.852 1520.93 Q196.047 1524.47 196.047 1531.6 Q196.047 1538.71 197.852 1542.27 Q199.681 1545.82 203.292 1545.82 Q206.926 1545.82 208.732 1542.27 Q210.561 1538.71 210.561 1531.6 Q210.561 1524.47 208.732 1520.93 Q206.926 1517.37 203.292 1517.37 M203.292 1513.66 Q209.102 1513.66 212.158 1518.27 Q215.236 1522.85 215.236 1531.6 Q215.236 1540.33 212.158 1544.94 Q209.102 1549.52 203.292 1549.52 Q197.482 1549.52 194.403 1544.94 Q191.348 1540.33 191.348 1531.6 Q191.348 1522.85 194.403 1518.27 Q197.482 1513.66 203.292 1513.66 Z\" fill=\"#000000\" fill-rule=\"nonzero\" fill-opacity=\"1\" /><path clip-path=\"url(#clip850)\" d=\"M491.296 1544.91 L507.616 1544.91 L507.616 1548.85 L485.671 1548.85 L485.671 1544.91 Q488.333 1542.16 492.917 1537.53 Q497.523 1532.88 498.704 1531.53 Q500.949 1529.01 501.829 1527.27 Q502.731 1525.51 502.731 1523.82 Q502.731 1521.07 500.787 1519.33 Q498.866 1517.6 495.764 1517.6 Q493.565 1517.6 491.111 1518.36 Q488.681 1519.13 485.903 1520.68 L485.903 1515.95 Q488.727 1514.82 491.18 1514.24 Q493.634 1513.66 495.671 1513.66 Q501.042 1513.66 504.236 1516.35 Q507.43 1519.03 507.43 1523.52 Q507.43 1525.65 506.62 1527.57 Q505.833 1529.47 503.727 1532.07 Q503.148 1532.74 500.046 1535.95 Q496.944 1539.15 491.296 1544.91 Z\" fill=\"#000000\" fill-rule=\"nonzero\" fill-opacity=\"1\" /><path clip-path=\"url(#clip850)\" d=\"M527.43 1517.37 Q523.819 1517.37 521.991 1520.93 Q520.185 1524.47 520.185 1531.6 Q520.185 1538.71 521.991 1542.27 Q523.819 1545.82 527.43 1545.82 Q531.065 1545.82 532.87 1542.27 Q534.699 1538.71 534.699 1531.6 Q534.699 1524.47 532.87 1520.93 Q531.065 1517.37 527.43 1517.37 M527.43 1513.66 Q533.24 1513.66 536.296 1518.27 Q539.375 1522.85 539.375 1531.6 Q539.375 1540.33 536.296 1544.94 Q533.24 1549.52 527.43 1549.52 Q521.62 1549.52 518.541 1544.94 Q515.486 1540.33 515.486 1531.6 Q515.486 1522.85 518.541 1518.27 Q521.62 1513.66 527.43 1513.66 Z\" fill=\"#000000\" fill-rule=\"nonzero\" fill-opacity=\"1\" /><path clip-path=\"url(#clip850)\" d=\"M809.925 1518.36 L798.12 1536.81 L809.925 1536.81 L809.925 1518.36 M808.698 1514.29 L814.578 1514.29 L814.578 1536.81 L819.508 1536.81 L819.508 1540.7 L814.578 1540.7 L814.578 1548.85 L809.925 1548.85 L809.925 1540.7 L794.323 1540.7 L794.323 1536.19 L808.698 1514.29 Z\" fill=\"#000000\" fill-rule=\"nonzero\" fill-opacity=\"1\" /><path clip-path=\"url(#clip850)\" d=\"M837.24 1517.37 Q833.629 1517.37 831.8 1520.93 Q829.995 1524.47 829.995 1531.6 Q829.995 1538.71 831.8 1542.27 Q833.629 1545.82 837.24 1545.82 Q840.874 1545.82 842.68 1542.27 Q844.508 1538.71 844.508 1531.6 Q844.508 1524.47 842.68 1520.93 Q840.874 1517.37 837.24 1517.37 M837.24 1513.66 Q843.05 1513.66 846.106 1518.27 Q849.184 1522.85 849.184 1531.6 Q849.184 1540.33 846.106 1544.94 Q843.05 1549.52 837.24 1549.52 Q831.43 1549.52 828.351 1544.94 Q825.295 1540.33 825.295 1531.6 Q825.295 1522.85 828.351 1518.27 Q831.43 1513.66 837.24 1513.66 Z\" fill=\"#000000\" fill-rule=\"nonzero\" fill-opacity=\"1\" /><path clip-path=\"url(#clip850)\" d=\"M1116.39 1529.7 Q1113.24 1529.7 1111.39 1531.86 Q1109.56 1534.01 1109.56 1537.76 Q1109.56 1541.49 1111.39 1543.66 Q1113.24 1545.82 1116.39 1545.82 Q1119.54 1545.82 1121.37 1543.66 Q1123.22 1541.49 1123.22 1537.76 Q1123.22 1534.01 1121.37 1531.86 Q1119.54 1529.7 1116.39 1529.7 M1125.67 1515.05 L1125.67 1519.31 Q1123.91 1518.48 1122.11 1518.04 Q1120.33 1517.6 1118.57 1517.6 Q1113.94 1517.6 1111.48 1520.72 Q1109.05 1523.85 1108.7 1530.17 Q1110.07 1528.15 1112.13 1527.09 Q1114.19 1526 1116.67 1526 Q1121.88 1526 1124.89 1529.17 Q1127.92 1532.32 1127.92 1537.76 Q1127.92 1543.08 1124.77 1546.3 Q1121.62 1549.52 1116.39 1549.52 Q1110.39 1549.52 1107.22 1544.94 Q1104.05 1540.33 1104.05 1531.6 Q1104.05 1523.41 1107.94 1518.55 Q1111.83 1513.66 1118.38 1513.66 Q1120.14 1513.66 1121.92 1514.01 Q1123.73 1514.36 1125.67 1515.05 Z\" fill=\"#000000\" fill-rule=\"nonzero\" fill-opacity=\"1\" /><path clip-path=\"url(#clip850)\" d=\"M1145.97 1517.37 Q1142.36 1517.37 1140.53 1520.93 Q1138.73 1524.47 1138.73 1531.6 Q1138.73 1538.71 1140.53 1542.27 Q1142.36 1545.82 1145.97 1545.82 Q1149.61 1545.82 1151.41 1542.27 Q1153.24 1538.71 1153.24 1531.6 Q1153.24 1524.47 1151.41 1520.93 Q1149.61 1517.37 1145.97 1517.37 M1145.97 1513.66 Q1151.78 1513.66 1154.84 1518.27 Q1157.92 1522.85 1157.92 1531.6 Q1157.92 1540.33 1154.84 1544.94 Q1151.78 1549.52 1145.97 1549.52 Q1140.16 1549.52 1137.08 1544.94 Q1134.03 1540.33 1134.03 1531.6 Q1134.03 1522.85 1137.08 1518.27 Q1140.16 1513.66 1145.97 1513.66 Z\" fill=\"#000000\" fill-rule=\"nonzero\" fill-opacity=\"1\" /><path clip-path=\"url(#clip850)\" d=\"M1425.09 1532.44 Q1421.76 1532.44 1419.83 1534.22 Q1417.94 1536 1417.94 1539.13 Q1417.94 1542.25 1419.83 1544.03 Q1421.76 1545.82 1425.09 1545.82 Q1428.42 1545.82 1430.34 1544.03 Q1432.26 1542.23 1432.26 1539.13 Q1432.26 1536 1430.34 1534.22 Q1428.44 1532.44 1425.09 1532.44 M1420.41 1530.45 Q1417.4 1529.7 1415.71 1527.64 Q1414.05 1525.58 1414.05 1522.62 Q1414.05 1518.48 1416.99 1516.07 Q1419.95 1513.66 1425.09 1513.66 Q1430.25 1513.66 1433.19 1516.07 Q1436.13 1518.48 1436.13 1522.62 Q1436.13 1525.58 1434.44 1527.64 Q1432.77 1529.7 1429.79 1530.45 Q1433.17 1531.23 1435.04 1533.52 Q1436.94 1535.82 1436.94 1539.13 Q1436.94 1544.15 1433.86 1546.83 Q1430.81 1549.52 1425.09 1549.52 Q1419.37 1549.52 1416.29 1546.83 Q1413.24 1544.15 1413.24 1539.13 Q1413.24 1535.82 1415.13 1533.52 Q1417.03 1531.23 1420.41 1530.45 M1418.7 1523.06 Q1418.7 1525.75 1420.37 1527.25 Q1422.06 1528.76 1425.09 1528.76 Q1428.1 1528.76 1429.79 1527.25 Q1431.5 1525.75 1431.5 1523.06 Q1431.5 1520.38 1429.79 1518.87 Q1428.1 1517.37 1425.09 1517.37 Q1422.06 1517.37 1420.37 1518.87 Q1418.7 1520.38 1418.7 1523.06 Z\" fill=\"#000000\" fill-rule=\"nonzero\" fill-opacity=\"1\" /><path clip-path=\"url(#clip850)\" d=\"M1455.25 1517.37 Q1451.64 1517.37 1449.81 1520.93 Q1448 1524.47 1448 1531.6 Q1448 1538.71 1449.81 1542.27 Q1451.64 1545.82 1455.25 1545.82 Q1458.88 1545.82 1460.69 1542.27 Q1462.52 1538.71 1462.52 1531.6 Q1462.52 1524.47 1460.69 1520.93 Q1458.88 1517.37 1455.25 1517.37 M1455.25 1513.66 Q1461.06 1513.66 1464.12 1518.27 Q1467.19 1522.85 1467.19 1531.6 Q1467.19 1540.33 1464.12 1544.94 Q1461.06 1549.52 1455.25 1549.52 Q1449.44 1549.52 1446.36 1544.94 Q1443.31 1540.33 1443.31 1531.6 Q1443.31 1522.85 1446.36 1518.27 Q1449.44 1513.66 1455.25 1513.66 Z\" fill=\"#000000\" fill-rule=\"nonzero\" fill-opacity=\"1\" /><path clip-path=\"url(#clip850)\" d=\"M1709.05 1544.91 L1716.69 1544.91 L1716.69 1518.55 L1708.38 1520.21 L1708.38 1515.95 L1716.65 1514.29 L1721.32 1514.29 L1721.32 1544.91 L1728.96 1544.91 L1728.96 1548.85 L1709.05 1548.85 L1709.05 1544.91 Z\" fill=\"#000000\" fill-rule=\"nonzero\" fill-opacity=\"1\" /><path clip-path=\"url(#clip850)\" d=\"M1748.4 1517.37 Q1744.79 1517.37 1742.97 1520.93 Q1741.16 1524.47 1741.16 1531.6 Q1741.16 1538.71 1742.97 1542.27 Q1744.79 1545.82 1748.4 1545.82 Q1752.04 1545.82 1753.84 1542.27 Q1755.67 1538.71 1755.67 1531.6 Q1755.67 1524.47 1753.84 1520.93 Q1752.04 1517.37 1748.4 1517.37 M1748.4 1513.66 Q1754.21 1513.66 1757.27 1518.27 Q1760.35 1522.85 1760.35 1531.6 Q1760.35 1540.33 1757.27 1544.94 Q1754.21 1549.52 1748.4 1549.52 Q1742.59 1549.52 1739.52 1544.94 Q1736.46 1540.33 1736.46 1531.6 Q1736.46 1522.85 1739.52 1518.27 Q1742.59 1513.66 1748.4 1513.66 Z\" fill=\"#000000\" fill-rule=\"nonzero\" fill-opacity=\"1\" /><path clip-path=\"url(#clip850)\" d=\"M1778.57 1517.37 Q1774.96 1517.37 1773.13 1520.93 Q1771.32 1524.47 1771.32 1531.6 Q1771.32 1538.71 1773.13 1542.27 Q1774.96 1545.82 1778.57 1545.82 Q1782.2 1545.82 1784.01 1542.27 Q1785.84 1538.71 1785.84 1531.6 Q1785.84 1524.47 1784.01 1520.93 Q1782.2 1517.37 1778.57 1517.37 M1778.57 1513.66 Q1784.38 1513.66 1787.43 1518.27 Q1790.51 1522.85 1790.51 1531.6 Q1790.51 1540.33 1787.43 1544.94 Q1784.38 1549.52 1778.57 1549.52 Q1772.76 1549.52 1769.68 1544.94 Q1766.62 1540.33 1766.62 1531.6 Q1766.62 1522.85 1769.68 1518.27 Q1772.76 1513.66 1778.57 1513.66 Z\" fill=\"#000000\" fill-rule=\"nonzero\" fill-opacity=\"1\" /><path clip-path=\"url(#clip850)\" d=\"M2018.28 1544.91 L2025.92 1544.91 L2025.92 1518.55 L2017.61 1520.21 L2017.61 1515.95 L2025.88 1514.29 L2030.55 1514.29 L2030.55 1544.91 L2038.19 1544.91 L2038.19 1548.85 L2018.28 1548.85 L2018.28 1544.91 Z\" fill=\"#000000\" fill-rule=\"nonzero\" fill-opacity=\"1\" /><path clip-path=\"url(#clip850)\" d=\"M2051.66 1544.91 L2067.98 1544.91 L2067.98 1548.85 L2046.04 1548.85 L2046.04 1544.91 Q2048.7 1542.16 2053.28 1537.53 Q2057.89 1532.88 2059.07 1531.53 Q2061.32 1529.01 2062.2 1527.27 Q2063.1 1525.51 2063.1 1523.82 Q2063.1 1521.07 2061.15 1519.33 Q2059.23 1517.6 2056.13 1517.6 Q2053.93 1517.6 2051.48 1518.36 Q2049.05 1519.13 2046.27 1520.68 L2046.27 1515.95 Q2049.09 1514.82 2051.55 1514.24 Q2054 1513.66 2056.04 1513.66 Q2061.41 1513.66 2064.6 1516.35 Q2067.8 1519.03 2067.8 1523.52 Q2067.8 1525.65 2066.99 1527.57 Q2066.2 1529.47 2064.09 1532.07 Q2063.52 1532.74 2060.41 1535.95 Q2057.31 1539.15 2051.66 1544.91 Z\" fill=\"#000000\" fill-rule=\"nonzero\" fill-opacity=\"1\" /><path clip-path=\"url(#clip850)\" d=\"M2087.8 1517.37 Q2084.19 1517.37 2082.36 1520.93 Q2080.55 1524.47 2080.55 1531.6 Q2080.55 1538.71 2082.36 1542.27 Q2084.19 1545.82 2087.8 1545.82 Q2091.43 1545.82 2093.24 1542.27 Q2095.07 1538.71 2095.07 1531.6 Q2095.07 1524.47 2093.24 1520.93 Q2091.43 1517.37 2087.8 1517.37 M2087.8 1513.66 Q2093.61 1513.66 2096.66 1518.27 Q2099.74 1522.85 2099.74 1531.6 Q2099.74 1540.33 2096.66 1544.94 Q2093.61 1549.52 2087.8 1549.52 Q2081.99 1549.52 2078.91 1544.94 Q2075.85 1540.33 2075.85 1531.6 Q2075.85 1522.85 2078.91 1518.27 Q2081.99 1513.66 2087.8 1513.66 Z\" fill=\"#000000\" fill-rule=\"nonzero\" fill-opacity=\"1\" /><polyline clip-path=\"url(#clip852)\" style=\"stroke:#000000; stroke-linecap:round; stroke-linejoin:round; stroke-width:2; stroke-opacity:0.1; fill:none\" points=\"156.598,1326.42 2352.76,1326.42 \"/>\n",
       "<polyline clip-path=\"url(#clip852)\" style=\"stroke:#000000; stroke-linecap:round; stroke-linejoin:round; stroke-width:2; stroke-opacity:0.1; fill:none\" points=\"156.598,1129.45 2352.76,1129.45 \"/>\n",
       "<polyline clip-path=\"url(#clip852)\" style=\"stroke:#000000; stroke-linecap:round; stroke-linejoin:round; stroke-width:2; stroke-opacity:0.1; fill:none\" points=\"156.598,932.473 2352.76,932.473 \"/>\n",
       "<polyline clip-path=\"url(#clip852)\" style=\"stroke:#000000; stroke-linecap:round; stroke-linejoin:round; stroke-width:2; stroke-opacity:0.1; fill:none\" points=\"156.598,735.498 2352.76,735.498 \"/>\n",
       "<polyline clip-path=\"url(#clip852)\" style=\"stroke:#000000; stroke-linecap:round; stroke-linejoin:round; stroke-width:2; stroke-opacity:0.1; fill:none\" points=\"156.598,538.523 2352.76,538.523 \"/>\n",
       "<polyline clip-path=\"url(#clip852)\" style=\"stroke:#000000; stroke-linecap:round; stroke-linejoin:round; stroke-width:2; stroke-opacity:0.1; fill:none\" points=\"156.598,341.548 2352.76,341.548 \"/>\n",
       "<polyline clip-path=\"url(#clip852)\" style=\"stroke:#000000; stroke-linecap:round; stroke-linejoin:round; stroke-width:2; stroke-opacity:0.1; fill:none\" points=\"156.598,144.573 2352.76,144.573 \"/>\n",
       "<polyline clip-path=\"url(#clip850)\" style=\"stroke:#000000; stroke-linecap:round; stroke-linejoin:round; stroke-width:4; stroke-opacity:1; fill:none\" points=\"156.598,1486.45 156.598,47.2441 \"/>\n",
       "<polyline clip-path=\"url(#clip850)\" style=\"stroke:#000000; stroke-linecap:round; stroke-linejoin:round; stroke-width:4; stroke-opacity:1; fill:none\" points=\"156.598,1326.42 175.496,1326.42 \"/>\n",
       "<polyline clip-path=\"url(#clip850)\" style=\"stroke:#000000; stroke-linecap:round; stroke-linejoin:round; stroke-width:4; stroke-opacity:1; fill:none\" points=\"156.598,1129.45 175.496,1129.45 \"/>\n",
       "<polyline clip-path=\"url(#clip850)\" style=\"stroke:#000000; stroke-linecap:round; stroke-linejoin:round; stroke-width:4; stroke-opacity:1; fill:none\" points=\"156.598,932.473 175.496,932.473 \"/>\n",
       "<polyline clip-path=\"url(#clip850)\" style=\"stroke:#000000; stroke-linecap:round; stroke-linejoin:round; stroke-width:4; stroke-opacity:1; fill:none\" points=\"156.598,735.498 175.496,735.498 \"/>\n",
       "<polyline clip-path=\"url(#clip850)\" style=\"stroke:#000000; stroke-linecap:round; stroke-linejoin:round; stroke-width:4; stroke-opacity:1; fill:none\" points=\"156.598,538.523 175.496,538.523 \"/>\n",
       "<polyline clip-path=\"url(#clip850)\" style=\"stroke:#000000; stroke-linecap:round; stroke-linejoin:round; stroke-width:4; stroke-opacity:1; fill:none\" points=\"156.598,341.548 175.496,341.548 \"/>\n",
       "<polyline clip-path=\"url(#clip850)\" style=\"stroke:#000000; stroke-linecap:round; stroke-linejoin:round; stroke-width:4; stroke-opacity:1; fill:none\" points=\"156.598,144.573 175.496,144.573 \"/>\n",
       "<path clip-path=\"url(#clip850)\" d=\"M64.6495 1312.22 Q61.0384 1312.22 59.2097 1315.79 Q57.4041 1319.33 57.4041 1326.46 Q57.4041 1333.56 59.2097 1337.13 Q61.0384 1340.67 64.6495 1340.67 Q68.2837 1340.67 70.0892 1337.13 Q71.9179 1333.56 71.9179 1326.46 Q71.9179 1319.33 70.0892 1315.79 Q68.2837 1312.22 64.6495 1312.22 M64.6495 1308.52 Q70.4596 1308.52 73.5152 1313.12 Q76.5938 1317.71 76.5938 1326.46 Q76.5938 1335.18 73.5152 1339.79 Q70.4596 1344.37 64.6495 1344.37 Q58.8393 1344.37 55.7606 1339.79 Q52.7051 1335.18 52.7051 1326.46 Q52.7051 1317.71 55.7606 1313.12 Q58.8393 1308.52 64.6495 1308.52 Z\" fill=\"#000000\" fill-rule=\"nonzero\" fill-opacity=\"1\" /><path clip-path=\"url(#clip850)\" d=\"M84.8114 1337.82 L89.6956 1337.82 L89.6956 1343.7 L84.8114 1343.7 L84.8114 1337.82 Z\" fill=\"#000000\" fill-rule=\"nonzero\" fill-opacity=\"1\" /><path clip-path=\"url(#clip850)\" d=\"M100.691 1339.77 L108.33 1339.77 L108.33 1313.4 L100.02 1315.07 L100.02 1310.81 L108.283 1309.14 L112.959 1309.14 L112.959 1339.77 L120.598 1339.77 L120.598 1343.7 L100.691 1343.7 L100.691 1339.77 Z\" fill=\"#000000\" fill-rule=\"nonzero\" fill-opacity=\"1\" /><path clip-path=\"url(#clip850)\" d=\"M65.0198 1115.25 Q61.4087 1115.25 59.58 1118.81 Q57.7745 1122.35 57.7745 1129.48 Q57.7745 1136.59 59.58 1140.15 Q61.4087 1143.7 65.0198 1143.7 Q68.6541 1143.7 70.4596 1140.15 Q72.2883 1136.59 72.2883 1129.48 Q72.2883 1122.35 70.4596 1118.81 Q68.6541 1115.25 65.0198 1115.25 M65.0198 1111.54 Q70.83 1111.54 73.8855 1116.15 Q76.9642 1120.73 76.9642 1129.48 Q76.9642 1138.21 73.8855 1142.82 Q70.83 1147.4 65.0198 1147.4 Q59.2097 1147.4 56.131 1142.82 Q53.0754 1138.21 53.0754 1129.48 Q53.0754 1120.73 56.131 1116.15 Q59.2097 1111.54 65.0198 1111.54 Z\" fill=\"#000000\" fill-rule=\"nonzero\" fill-opacity=\"1\" /><path clip-path=\"url(#clip850)\" d=\"M85.1818 1140.85 L90.066 1140.85 L90.066 1146.73 L85.1818 1146.73 L85.1818 1140.85 Z\" fill=\"#000000\" fill-rule=\"nonzero\" fill-opacity=\"1\" /><path clip-path=\"url(#clip850)\" d=\"M104.279 1142.79 L120.598 1142.79 L120.598 1146.73 L98.6539 1146.73 L98.6539 1142.79 Q101.316 1140.04 105.899 1135.41 Q110.506 1130.76 111.686 1129.41 Q113.932 1126.89 114.811 1125.15 Q115.714 1123.39 115.714 1121.7 Q115.714 1118.95 113.77 1117.21 Q111.848 1115.48 108.746 1115.48 Q106.547 1115.48 104.094 1116.24 Q101.663 1117.01 98.8854 1118.56 L98.8854 1113.83 Q101.709 1112.7 104.163 1112.12 Q106.617 1111.54 108.654 1111.54 Q114.024 1111.54 117.219 1114.23 Q120.413 1116.91 120.413 1121.4 Q120.413 1123.53 119.603 1125.45 Q118.816 1127.35 116.709 1129.95 Q116.131 1130.62 113.029 1133.83 Q109.927 1137.03 104.279 1142.79 Z\" fill=\"#000000\" fill-rule=\"nonzero\" fill-opacity=\"1\" /><path clip-path=\"url(#clip850)\" d=\"M64.0708 918.271 Q60.4597 918.271 58.631 921.836 Q56.8254 925.378 56.8254 932.508 Q56.8254 939.614 58.631 943.179 Q60.4597 946.72 64.0708 946.72 Q67.705 946.72 69.5105 943.179 Q71.3392 939.614 71.3392 932.508 Q71.3392 925.378 69.5105 921.836 Q67.705 918.271 64.0708 918.271 M64.0708 914.568 Q69.8809 914.568 72.9365 919.174 Q76.0151 923.758 76.0151 932.508 Q76.0151 941.234 72.9365 945.841 Q69.8809 950.424 64.0708 950.424 Q58.2606 950.424 55.1819 945.841 Q52.1264 941.234 52.1264 932.508 Q52.1264 923.758 55.1819 919.174 Q58.2606 914.568 64.0708 914.568 Z\" fill=\"#000000\" fill-rule=\"nonzero\" fill-opacity=\"1\" /><path clip-path=\"url(#clip850)\" d=\"M84.2327 943.873 L89.1169 943.873 L89.1169 949.753 L84.2327 949.753 L84.2327 943.873 Z\" fill=\"#000000\" fill-rule=\"nonzero\" fill-opacity=\"1\" /><path clip-path=\"url(#clip850)\" d=\"M113.469 931.119 Q116.825 931.836 118.7 934.105 Q120.598 936.373 120.598 939.707 Q120.598 944.822 117.08 947.623 Q113.561 950.424 107.08 950.424 Q104.904 950.424 102.589 949.984 Q100.297 949.568 97.8437 948.711 L97.8437 944.197 Q99.7882 945.332 102.103 945.91 Q104.418 946.489 106.941 946.489 Q111.339 946.489 113.631 944.753 Q115.945 943.017 115.945 939.707 Q115.945 936.651 113.793 934.938 Q111.663 933.202 107.844 933.202 L103.816 933.202 L103.816 929.359 L108.029 929.359 Q111.478 929.359 113.307 927.994 Q115.135 926.605 115.135 924.012 Q115.135 921.35 113.237 919.938 Q111.362 918.503 107.844 918.503 Q105.922 918.503 103.723 918.92 Q101.524 919.336 98.8854 920.216 L98.8854 916.049 Q101.547 915.309 103.862 914.938 Q106.2 914.568 108.26 914.568 Q113.584 914.568 116.686 916.998 Q119.788 919.406 119.788 923.526 Q119.788 926.396 118.145 928.387 Q116.501 930.355 113.469 931.119 Z\" fill=\"#000000\" fill-rule=\"nonzero\" fill-opacity=\"1\" /><path clip-path=\"url(#clip850)\" d=\"M62.9365 721.296 Q59.3254 721.296 57.4967 724.861 Q55.6912 728.403 55.6912 735.532 Q55.6912 742.639 57.4967 746.204 Q59.3254 749.745 62.9365 749.745 Q66.5707 749.745 68.3763 746.204 Q70.205 742.639 70.205 735.532 Q70.205 728.403 68.3763 724.861 Q66.5707 721.296 62.9365 721.296 M62.9365 717.593 Q68.7467 717.593 71.8022 722.199 Q74.8809 726.782 74.8809 735.532 Q74.8809 744.259 71.8022 748.866 Q68.7467 753.449 62.9365 753.449 Q57.1264 753.449 54.0477 748.866 Q50.9921 744.259 50.9921 735.532 Q50.9921 726.782 54.0477 722.199 Q57.1264 717.593 62.9365 717.593 Z\" fill=\"#000000\" fill-rule=\"nonzero\" fill-opacity=\"1\" /><path clip-path=\"url(#clip850)\" d=\"M83.0984 746.898 L87.9827 746.898 L87.9827 752.778 L83.0984 752.778 L83.0984 746.898 Z\" fill=\"#000000\" fill-rule=\"nonzero\" fill-opacity=\"1\" /><path clip-path=\"url(#clip850)\" d=\"M111.015 722.292 L99.2095 740.741 L111.015 740.741 L111.015 722.292 M109.788 718.218 L115.668 718.218 L115.668 740.741 L120.598 740.741 L120.598 744.63 L115.668 744.63 L115.668 752.778 L111.015 752.778 L111.015 744.63 L95.4132 744.63 L95.4132 740.116 L109.788 718.218 Z\" fill=\"#000000\" fill-rule=\"nonzero\" fill-opacity=\"1\" /><path clip-path=\"url(#clip850)\" d=\"M64.418 524.321 Q60.8069 524.321 58.9782 527.886 Q57.1726 531.428 57.1726 538.557 Q57.1726 545.664 58.9782 549.229 Q60.8069 552.77 64.418 552.77 Q68.0522 552.77 69.8578 549.229 Q71.6865 545.664 71.6865 538.557 Q71.6865 531.428 69.8578 527.886 Q68.0522 524.321 64.418 524.321 M64.418 520.618 Q70.2281 520.618 73.2837 525.224 Q76.3624 529.807 76.3624 538.557 Q76.3624 547.284 73.2837 551.891 Q70.2281 556.474 64.418 556.474 Q58.6078 556.474 55.5291 551.891 Q52.4736 547.284 52.4736 538.557 Q52.4736 529.807 55.5291 525.224 Q58.6078 520.618 64.418 520.618 Z\" fill=\"#000000\" fill-rule=\"nonzero\" fill-opacity=\"1\" /><path clip-path=\"url(#clip850)\" d=\"M84.5799 549.923 L89.4641 549.923 L89.4641 555.803 L84.5799 555.803 L84.5799 549.923 Z\" fill=\"#000000\" fill-rule=\"nonzero\" fill-opacity=\"1\" /><path clip-path=\"url(#clip850)\" d=\"M99.6956 521.243 L118.052 521.243 L118.052 525.178 L103.978 525.178 L103.978 533.65 Q104.996 533.303 106.015 533.141 Q107.033 532.956 108.052 532.956 Q113.839 532.956 117.219 536.127 Q120.598 539.298 120.598 544.715 Q120.598 550.293 117.126 553.395 Q113.654 556.474 107.334 556.474 Q105.159 556.474 102.89 556.104 Q100.645 555.733 98.2372 554.992 L98.2372 550.293 Q100.321 551.428 102.543 551.983 Q104.765 552.539 107.242 552.539 Q111.246 552.539 113.584 550.432 Q115.922 548.326 115.922 544.715 Q115.922 541.104 113.584 538.997 Q111.246 536.891 107.242 536.891 Q105.367 536.891 103.492 537.307 Q101.64 537.724 99.6956 538.604 L99.6956 521.243 Z\" fill=\"#000000\" fill-rule=\"nonzero\" fill-opacity=\"1\" /><path clip-path=\"url(#clip850)\" d=\"M63.2606 327.346 Q59.6495 327.346 57.8208 330.911 Q56.0152 334.453 56.0152 341.582 Q56.0152 348.689 57.8208 352.254 Q59.6495 355.795 63.2606 355.795 Q66.8948 355.795 68.7004 352.254 Q70.5291 348.689 70.5291 341.582 Q70.5291 334.453 68.7004 330.911 Q66.8948 327.346 63.2606 327.346 M63.2606 323.643 Q69.0707 323.643 72.1263 328.249 Q75.205 332.832 75.205 341.582 Q75.205 350.309 72.1263 354.916 Q69.0707 359.499 63.2606 359.499 Q57.4504 359.499 54.3717 354.916 Q51.3162 350.309 51.3162 341.582 Q51.3162 332.832 54.3717 328.249 Q57.4504 323.643 63.2606 323.643 Z\" fill=\"#000000\" fill-rule=\"nonzero\" fill-opacity=\"1\" /><path clip-path=\"url(#clip850)\" d=\"M83.4225 352.948 L88.3067 352.948 L88.3067 358.828 L83.4225 358.828 L83.4225 352.948 Z\" fill=\"#000000\" fill-rule=\"nonzero\" fill-opacity=\"1\" /><path clip-path=\"url(#clip850)\" d=\"M109.071 339.684 Q105.922 339.684 104.071 341.837 Q102.242 343.99 102.242 347.74 Q102.242 351.467 104.071 353.642 Q105.922 355.795 109.071 355.795 Q112.219 355.795 114.047 353.642 Q115.899 351.467 115.899 347.74 Q115.899 343.99 114.047 341.837 Q112.219 339.684 109.071 339.684 M118.353 325.031 L118.353 329.291 Q116.594 328.457 114.788 328.018 Q113.006 327.578 111.246 327.578 Q106.617 327.578 104.163 330.703 Q101.733 333.828 101.385 340.147 Q102.751 338.133 104.811 337.068 Q106.871 335.981 109.348 335.981 Q114.557 335.981 117.566 339.152 Q120.598 342.3 120.598 347.74 Q120.598 353.064 117.45 356.281 Q114.302 359.499 109.071 359.499 Q103.075 359.499 99.9039 354.916 Q96.7326 350.309 96.7326 341.582 Q96.7326 333.388 100.621 328.527 Q104.51 323.643 111.061 323.643 Q112.82 323.643 114.603 323.99 Q116.408 324.337 118.353 325.031 Z\" fill=\"#000000\" fill-rule=\"nonzero\" fill-opacity=\"1\" /><path clip-path=\"url(#clip850)\" d=\"M64.3254 130.371 Q60.7143 130.371 58.8856 133.936 Q57.0801 137.478 57.0801 144.607 Q57.0801 151.714 58.8856 155.279 Q60.7143 158.82 64.3254 158.82 Q67.9596 158.82 69.7652 155.279 Q71.5939 151.714 71.5939 144.607 Q71.5939 137.478 69.7652 133.936 Q67.9596 130.371 64.3254 130.371 M64.3254 126.668 Q70.1355 126.668 73.1911 131.274 Q76.2698 135.857 76.2698 144.607 Q76.2698 153.334 73.1911 157.941 Q70.1355 162.524 64.3254 162.524 Q58.5152 162.524 55.4365 157.941 Q52.381 153.334 52.381 144.607 Q52.381 135.857 55.4365 131.274 Q58.5152 126.668 64.3254 126.668 Z\" fill=\"#000000\" fill-rule=\"nonzero\" fill-opacity=\"1\" /><path clip-path=\"url(#clip850)\" d=\"M84.4873 155.973 L89.3715 155.973 L89.3715 161.853 L84.4873 161.853 L84.4873 155.973 Z\" fill=\"#000000\" fill-rule=\"nonzero\" fill-opacity=\"1\" /><path clip-path=\"url(#clip850)\" d=\"M98.3761 127.293 L120.598 127.293 L120.598 129.283 L108.052 161.853 L103.168 161.853 L114.973 131.228 L98.3761 131.228 L98.3761 127.293 Z\" fill=\"#000000\" fill-rule=\"nonzero\" fill-opacity=\"1\" /><polyline clip-path=\"url(#clip852)\" style=\"stroke:#009af9; stroke-linecap:round; stroke-linejoin:round; stroke-width:4; stroke-opacity:1; fill:none\" points=\"218.754,1445.72 234.215,1445.46 249.677,1444.68 265.138,1443.38 280.6,1441.55 296.061,1439.19 311.523,1436.27 326.984,1432.79 342.446,1428.73 357.908,1424.06 373.369,1418.77 388.831,1412.83 404.292,1406.22 419.754,1398.91 435.215,1390.86 450.677,1382.05 466.138,1372.45 481.6,1362.01 497.061,1350.71 512.523,1338.51 527.985,1325.37 543.446,1311.25 558.908,1296.14 574.369,1279.98 589.831,1262.76 605.292,1244.43 620.754,1224.98 636.215,1204.38 651.677,1182.62 667.138,1159.68 682.6,1135.55 698.061,1110.23 713.523,1083.72 728.985,1056.04 744.446,1027.2 759.908,997.244 775.369,966.199 790.831,934.116 806.292,901.052 821.754,867.077 837.215,832.268 852.677,796.717 868.138,760.525 883.6,723.804 899.062,686.675 914.523,649.273 929.985,611.738 945.446,574.222 960.908,536.885 976.369,499.893 991.831,463.418 1007.29,427.638 1022.75,392.732 1038.22,358.884 1053.68,326.275 1069.14,295.087 1084.6,265.498 1100.06,237.679 1115.52,211.797 1130.98,188.01 1146.45,166.465 1161.91,147.297 1177.37,130.63 1192.83,116.57 1208.29,105.208 1223.75,96.6211 1239.22,90.8643 1254.68,87.9763 1270.14,87.9763 1285.6,90.8643 1301.06,96.6211 1316.52,105.208 1331.98,116.57 1347.45,130.63 1362.91,147.297 1378.37,166.465 1393.83,188.01 1409.29,211.797 1424.75,237.679 1440.22,265.498 1455.68,295.087 1471.14,326.275 1486.6,358.884 1502.06,392.732 1517.52,427.638 1532.98,463.418 1548.45,499.893 1563.91,536.885 1579.37,574.222 1594.83,611.738 1610.29,649.273 1625.75,686.675 1641.22,723.804 1656.68,760.525 1672.14,796.717 1687.6,832.268 1703.06,867.077 1718.52,901.052 1733.98,934.116 1749.45,966.199 1764.91,997.244 1780.37,1027.2 1795.83,1056.04 1811.29,1083.72 1826.75,1110.23 1842.22,1135.55 1857.68,1159.68 1873.14,1182.62 1888.6,1204.38 1904.06,1224.98 1919.52,1244.43 1934.98,1262.76 1950.45,1279.98 1965.91,1296.14 1981.37,1311.25 1996.83,1325.37 2012.29,1338.51 2027.75,1350.71 2043.22,1362.01 2058.68,1372.45 2074.14,1382.05 2089.6,1390.86 2105.06,1398.91 2120.52,1406.22 2135.99,1412.83 2151.45,1418.77 2166.91,1424.06 2182.37,1428.73 2197.83,1432.79 2213.29,1436.27 2228.75,1439.19 2244.22,1441.55 2259.68,1443.38 2275.14,1444.68 2290.6,1445.46 \"/>\n",
       "</svg>\n"
      ],
      "text/html": [
       "<?xml version=\"1.0\" encoding=\"utf-8\"?>\n",
       "<svg xmlns=\"http://www.w3.org/2000/svg\" xmlns:xlink=\"http://www.w3.org/1999/xlink\" width=\"600\" height=\"400\" viewBox=\"0 0 2400 1600\">\n",
       "<defs>\n",
       "  <clipPath id=\"clip900\">\n",
       "    <rect x=\"0\" y=\"0\" width=\"2400\" height=\"1600\"/>\n",
       "  </clipPath>\n",
       "</defs>\n",
       "<path clip-path=\"url(#clip900)\" d=\"M0 1600 L2400 1600 L2400 0 L0 0  Z\" fill=\"#ffffff\" fill-rule=\"evenodd\" fill-opacity=\"1\"/>\n",
       "<defs>\n",
       "  <clipPath id=\"clip901\">\n",
       "    <rect x=\"480\" y=\"0\" width=\"1681\" height=\"1600\"/>\n",
       "  </clipPath>\n",
       "</defs>\n",
       "<path clip-path=\"url(#clip900)\" d=\"M156.598 1486.45 L2352.76 1486.45 L2352.76 47.2441 L156.598 47.2441  Z\" fill=\"#ffffff\" fill-rule=\"evenodd\" fill-opacity=\"1\"/>\n",
       "<defs>\n",
       "  <clipPath id=\"clip902\">\n",
       "    <rect x=\"156\" y=\"47\" width=\"2197\" height=\"1440\"/>\n",
       "  </clipPath>\n",
       "</defs>\n",
       "<polyline clip-path=\"url(#clip902)\" style=\"stroke:#000000; stroke-linecap:round; stroke-linejoin:round; stroke-width:2; stroke-opacity:0.1; fill:none\" points=\"203.292,1486.45 203.292,47.2441 \"/>\n",
       "<polyline clip-path=\"url(#clip902)\" style=\"stroke:#000000; stroke-linecap:round; stroke-linejoin:round; stroke-width:2; stroke-opacity:0.1; fill:none\" points=\"512.523,1486.45 512.523,47.2441 \"/>\n",
       "<polyline clip-path=\"url(#clip902)\" style=\"stroke:#000000; stroke-linecap:round; stroke-linejoin:round; stroke-width:2; stroke-opacity:0.1; fill:none\" points=\"821.754,1486.45 821.754,47.2441 \"/>\n",
       "<polyline clip-path=\"url(#clip902)\" style=\"stroke:#000000; stroke-linecap:round; stroke-linejoin:round; stroke-width:2; stroke-opacity:0.1; fill:none\" points=\"1130.98,1486.45 1130.98,47.2441 \"/>\n",
       "<polyline clip-path=\"url(#clip902)\" style=\"stroke:#000000; stroke-linecap:round; stroke-linejoin:round; stroke-width:2; stroke-opacity:0.1; fill:none\" points=\"1440.22,1486.45 1440.22,47.2441 \"/>\n",
       "<polyline clip-path=\"url(#clip902)\" style=\"stroke:#000000; stroke-linecap:round; stroke-linejoin:round; stroke-width:2; stroke-opacity:0.1; fill:none\" points=\"1749.45,1486.45 1749.45,47.2441 \"/>\n",
       "<polyline clip-path=\"url(#clip902)\" style=\"stroke:#000000; stroke-linecap:round; stroke-linejoin:round; stroke-width:2; stroke-opacity:0.1; fill:none\" points=\"2058.68,1486.45 2058.68,47.2441 \"/>\n",
       "<polyline clip-path=\"url(#clip900)\" style=\"stroke:#000000; stroke-linecap:round; stroke-linejoin:round; stroke-width:4; stroke-opacity:1; fill:none\" points=\"156.598,1486.45 2352.76,1486.45 \"/>\n",
       "<polyline clip-path=\"url(#clip900)\" style=\"stroke:#000000; stroke-linecap:round; stroke-linejoin:round; stroke-width:4; stroke-opacity:1; fill:none\" points=\"203.292,1486.45 203.292,1467.55 \"/>\n",
       "<polyline clip-path=\"url(#clip900)\" style=\"stroke:#000000; stroke-linecap:round; stroke-linejoin:round; stroke-width:4; stroke-opacity:1; fill:none\" points=\"512.523,1486.45 512.523,1467.55 \"/>\n",
       "<polyline clip-path=\"url(#clip900)\" style=\"stroke:#000000; stroke-linecap:round; stroke-linejoin:round; stroke-width:4; stroke-opacity:1; fill:none\" points=\"821.754,1486.45 821.754,1467.55 \"/>\n",
       "<polyline clip-path=\"url(#clip900)\" style=\"stroke:#000000; stroke-linecap:round; stroke-linejoin:round; stroke-width:4; stroke-opacity:1; fill:none\" points=\"1130.98,1486.45 1130.98,1467.55 \"/>\n",
       "<polyline clip-path=\"url(#clip900)\" style=\"stroke:#000000; stroke-linecap:round; stroke-linejoin:round; stroke-width:4; stroke-opacity:1; fill:none\" points=\"1440.22,1486.45 1440.22,1467.55 \"/>\n",
       "<polyline clip-path=\"url(#clip900)\" style=\"stroke:#000000; stroke-linecap:round; stroke-linejoin:round; stroke-width:4; stroke-opacity:1; fill:none\" points=\"1749.45,1486.45 1749.45,1467.55 \"/>\n",
       "<polyline clip-path=\"url(#clip900)\" style=\"stroke:#000000; stroke-linecap:round; stroke-linejoin:round; stroke-width:4; stroke-opacity:1; fill:none\" points=\"2058.68,1486.45 2058.68,1467.55 \"/>\n",
       "<path clip-path=\"url(#clip900)\" d=\"M203.292 1517.37 Q199.681 1517.37 197.852 1520.93 Q196.047 1524.47 196.047 1531.6 Q196.047 1538.71 197.852 1542.27 Q199.681 1545.82 203.292 1545.82 Q206.926 1545.82 208.732 1542.27 Q210.561 1538.71 210.561 1531.6 Q210.561 1524.47 208.732 1520.93 Q206.926 1517.37 203.292 1517.37 M203.292 1513.66 Q209.102 1513.66 212.158 1518.27 Q215.236 1522.85 215.236 1531.6 Q215.236 1540.33 212.158 1544.94 Q209.102 1549.52 203.292 1549.52 Q197.482 1549.52 194.403 1544.94 Q191.348 1540.33 191.348 1531.6 Q191.348 1522.85 194.403 1518.27 Q197.482 1513.66 203.292 1513.66 Z\" fill=\"#000000\" fill-rule=\"nonzero\" fill-opacity=\"1\" /><path clip-path=\"url(#clip900)\" d=\"M491.296 1544.91 L507.616 1544.91 L507.616 1548.85 L485.671 1548.85 L485.671 1544.91 Q488.333 1542.16 492.917 1537.53 Q497.523 1532.88 498.704 1531.53 Q500.949 1529.01 501.829 1527.27 Q502.731 1525.51 502.731 1523.82 Q502.731 1521.07 500.787 1519.33 Q498.866 1517.6 495.764 1517.6 Q493.565 1517.6 491.111 1518.36 Q488.681 1519.13 485.903 1520.68 L485.903 1515.95 Q488.727 1514.82 491.18 1514.24 Q493.634 1513.66 495.671 1513.66 Q501.042 1513.66 504.236 1516.35 Q507.43 1519.03 507.43 1523.52 Q507.43 1525.65 506.62 1527.57 Q505.833 1529.47 503.727 1532.07 Q503.148 1532.74 500.046 1535.95 Q496.944 1539.15 491.296 1544.91 Z\" fill=\"#000000\" fill-rule=\"nonzero\" fill-opacity=\"1\" /><path clip-path=\"url(#clip900)\" d=\"M527.43 1517.37 Q523.819 1517.37 521.991 1520.93 Q520.185 1524.47 520.185 1531.6 Q520.185 1538.71 521.991 1542.27 Q523.819 1545.82 527.43 1545.82 Q531.065 1545.82 532.87 1542.27 Q534.699 1538.71 534.699 1531.6 Q534.699 1524.47 532.87 1520.93 Q531.065 1517.37 527.43 1517.37 M527.43 1513.66 Q533.24 1513.66 536.296 1518.27 Q539.375 1522.85 539.375 1531.6 Q539.375 1540.33 536.296 1544.94 Q533.24 1549.52 527.43 1549.52 Q521.62 1549.52 518.541 1544.94 Q515.486 1540.33 515.486 1531.6 Q515.486 1522.85 518.541 1518.27 Q521.62 1513.66 527.43 1513.66 Z\" fill=\"#000000\" fill-rule=\"nonzero\" fill-opacity=\"1\" /><path clip-path=\"url(#clip900)\" d=\"M809.925 1518.36 L798.12 1536.81 L809.925 1536.81 L809.925 1518.36 M808.698 1514.29 L814.578 1514.29 L814.578 1536.81 L819.508 1536.81 L819.508 1540.7 L814.578 1540.7 L814.578 1548.85 L809.925 1548.85 L809.925 1540.7 L794.323 1540.7 L794.323 1536.19 L808.698 1514.29 Z\" fill=\"#000000\" fill-rule=\"nonzero\" fill-opacity=\"1\" /><path clip-path=\"url(#clip900)\" d=\"M837.24 1517.37 Q833.629 1517.37 831.8 1520.93 Q829.995 1524.47 829.995 1531.6 Q829.995 1538.71 831.8 1542.27 Q833.629 1545.82 837.24 1545.82 Q840.874 1545.82 842.68 1542.27 Q844.508 1538.71 844.508 1531.6 Q844.508 1524.47 842.68 1520.93 Q840.874 1517.37 837.24 1517.37 M837.24 1513.66 Q843.05 1513.66 846.106 1518.27 Q849.184 1522.85 849.184 1531.6 Q849.184 1540.33 846.106 1544.94 Q843.05 1549.52 837.24 1549.52 Q831.43 1549.52 828.351 1544.94 Q825.295 1540.33 825.295 1531.6 Q825.295 1522.85 828.351 1518.27 Q831.43 1513.66 837.24 1513.66 Z\" fill=\"#000000\" fill-rule=\"nonzero\" fill-opacity=\"1\" /><path clip-path=\"url(#clip900)\" d=\"M1116.39 1529.7 Q1113.24 1529.7 1111.39 1531.86 Q1109.56 1534.01 1109.56 1537.76 Q1109.56 1541.49 1111.39 1543.66 Q1113.24 1545.82 1116.39 1545.82 Q1119.54 1545.82 1121.37 1543.66 Q1123.22 1541.49 1123.22 1537.76 Q1123.22 1534.01 1121.37 1531.86 Q1119.54 1529.7 1116.39 1529.7 M1125.67 1515.05 L1125.67 1519.31 Q1123.91 1518.48 1122.11 1518.04 Q1120.33 1517.6 1118.57 1517.6 Q1113.94 1517.6 1111.48 1520.72 Q1109.05 1523.85 1108.7 1530.17 Q1110.07 1528.15 1112.13 1527.09 Q1114.19 1526 1116.67 1526 Q1121.88 1526 1124.89 1529.17 Q1127.92 1532.32 1127.92 1537.76 Q1127.92 1543.08 1124.77 1546.3 Q1121.62 1549.52 1116.39 1549.52 Q1110.39 1549.52 1107.22 1544.94 Q1104.05 1540.33 1104.05 1531.6 Q1104.05 1523.41 1107.94 1518.55 Q1111.83 1513.66 1118.38 1513.66 Q1120.14 1513.66 1121.92 1514.01 Q1123.73 1514.36 1125.67 1515.05 Z\" fill=\"#000000\" fill-rule=\"nonzero\" fill-opacity=\"1\" /><path clip-path=\"url(#clip900)\" d=\"M1145.97 1517.37 Q1142.36 1517.37 1140.53 1520.93 Q1138.73 1524.47 1138.73 1531.6 Q1138.73 1538.71 1140.53 1542.27 Q1142.36 1545.82 1145.97 1545.82 Q1149.61 1545.82 1151.41 1542.27 Q1153.24 1538.71 1153.24 1531.6 Q1153.24 1524.47 1151.41 1520.93 Q1149.61 1517.37 1145.97 1517.37 M1145.97 1513.66 Q1151.78 1513.66 1154.84 1518.27 Q1157.92 1522.85 1157.92 1531.6 Q1157.92 1540.33 1154.84 1544.94 Q1151.78 1549.52 1145.97 1549.52 Q1140.16 1549.52 1137.08 1544.94 Q1134.03 1540.33 1134.03 1531.6 Q1134.03 1522.85 1137.08 1518.27 Q1140.16 1513.66 1145.97 1513.66 Z\" fill=\"#000000\" fill-rule=\"nonzero\" fill-opacity=\"1\" /><path clip-path=\"url(#clip900)\" d=\"M1425.09 1532.44 Q1421.76 1532.44 1419.83 1534.22 Q1417.94 1536 1417.94 1539.13 Q1417.94 1542.25 1419.83 1544.03 Q1421.76 1545.82 1425.09 1545.82 Q1428.42 1545.82 1430.34 1544.03 Q1432.26 1542.23 1432.26 1539.13 Q1432.26 1536 1430.34 1534.22 Q1428.44 1532.44 1425.09 1532.44 M1420.41 1530.45 Q1417.4 1529.7 1415.71 1527.64 Q1414.05 1525.58 1414.05 1522.62 Q1414.05 1518.48 1416.99 1516.07 Q1419.95 1513.66 1425.09 1513.66 Q1430.25 1513.66 1433.19 1516.07 Q1436.13 1518.48 1436.13 1522.62 Q1436.13 1525.58 1434.44 1527.64 Q1432.77 1529.7 1429.79 1530.45 Q1433.17 1531.23 1435.04 1533.52 Q1436.94 1535.82 1436.94 1539.13 Q1436.94 1544.15 1433.86 1546.83 Q1430.81 1549.52 1425.09 1549.52 Q1419.37 1549.52 1416.29 1546.83 Q1413.24 1544.15 1413.24 1539.13 Q1413.24 1535.82 1415.13 1533.52 Q1417.03 1531.23 1420.41 1530.45 M1418.7 1523.06 Q1418.7 1525.75 1420.37 1527.25 Q1422.06 1528.76 1425.09 1528.76 Q1428.1 1528.76 1429.79 1527.25 Q1431.5 1525.75 1431.5 1523.06 Q1431.5 1520.38 1429.79 1518.87 Q1428.1 1517.37 1425.09 1517.37 Q1422.06 1517.37 1420.37 1518.87 Q1418.7 1520.38 1418.7 1523.06 Z\" fill=\"#000000\" fill-rule=\"nonzero\" fill-opacity=\"1\" /><path clip-path=\"url(#clip900)\" d=\"M1455.25 1517.37 Q1451.64 1517.37 1449.81 1520.93 Q1448 1524.47 1448 1531.6 Q1448 1538.71 1449.81 1542.27 Q1451.64 1545.82 1455.25 1545.82 Q1458.88 1545.82 1460.69 1542.27 Q1462.52 1538.71 1462.52 1531.6 Q1462.52 1524.47 1460.69 1520.93 Q1458.88 1517.37 1455.25 1517.37 M1455.25 1513.66 Q1461.06 1513.66 1464.12 1518.27 Q1467.19 1522.85 1467.19 1531.6 Q1467.19 1540.33 1464.12 1544.94 Q1461.06 1549.52 1455.25 1549.52 Q1449.44 1549.52 1446.36 1544.94 Q1443.31 1540.33 1443.31 1531.6 Q1443.31 1522.85 1446.36 1518.27 Q1449.44 1513.66 1455.25 1513.66 Z\" fill=\"#000000\" fill-rule=\"nonzero\" fill-opacity=\"1\" /><path clip-path=\"url(#clip900)\" d=\"M1709.05 1544.91 L1716.69 1544.91 L1716.69 1518.55 L1708.38 1520.21 L1708.38 1515.95 L1716.65 1514.29 L1721.32 1514.29 L1721.32 1544.91 L1728.96 1544.91 L1728.96 1548.85 L1709.05 1548.85 L1709.05 1544.91 Z\" fill=\"#000000\" fill-rule=\"nonzero\" fill-opacity=\"1\" /><path clip-path=\"url(#clip900)\" d=\"M1748.4 1517.37 Q1744.79 1517.37 1742.97 1520.93 Q1741.16 1524.47 1741.16 1531.6 Q1741.16 1538.71 1742.97 1542.27 Q1744.79 1545.82 1748.4 1545.82 Q1752.04 1545.82 1753.84 1542.27 Q1755.67 1538.71 1755.67 1531.6 Q1755.67 1524.47 1753.84 1520.93 Q1752.04 1517.37 1748.4 1517.37 M1748.4 1513.66 Q1754.21 1513.66 1757.27 1518.27 Q1760.35 1522.85 1760.35 1531.6 Q1760.35 1540.33 1757.27 1544.94 Q1754.21 1549.52 1748.4 1549.52 Q1742.59 1549.52 1739.52 1544.94 Q1736.46 1540.33 1736.46 1531.6 Q1736.46 1522.85 1739.52 1518.27 Q1742.59 1513.66 1748.4 1513.66 Z\" fill=\"#000000\" fill-rule=\"nonzero\" fill-opacity=\"1\" /><path clip-path=\"url(#clip900)\" d=\"M1778.57 1517.37 Q1774.96 1517.37 1773.13 1520.93 Q1771.32 1524.47 1771.32 1531.6 Q1771.32 1538.71 1773.13 1542.27 Q1774.96 1545.82 1778.57 1545.82 Q1782.2 1545.82 1784.01 1542.27 Q1785.84 1538.71 1785.84 1531.6 Q1785.84 1524.47 1784.01 1520.93 Q1782.2 1517.37 1778.57 1517.37 M1778.57 1513.66 Q1784.38 1513.66 1787.43 1518.27 Q1790.51 1522.85 1790.51 1531.6 Q1790.51 1540.33 1787.43 1544.94 Q1784.38 1549.52 1778.57 1549.52 Q1772.76 1549.52 1769.68 1544.94 Q1766.62 1540.33 1766.62 1531.6 Q1766.62 1522.85 1769.68 1518.27 Q1772.76 1513.66 1778.57 1513.66 Z\" fill=\"#000000\" fill-rule=\"nonzero\" fill-opacity=\"1\" /><path clip-path=\"url(#clip900)\" d=\"M2018.28 1544.91 L2025.92 1544.91 L2025.92 1518.55 L2017.61 1520.21 L2017.61 1515.95 L2025.88 1514.29 L2030.55 1514.29 L2030.55 1544.91 L2038.19 1544.91 L2038.19 1548.85 L2018.28 1548.85 L2018.28 1544.91 Z\" fill=\"#000000\" fill-rule=\"nonzero\" fill-opacity=\"1\" /><path clip-path=\"url(#clip900)\" d=\"M2051.66 1544.91 L2067.98 1544.91 L2067.98 1548.85 L2046.04 1548.85 L2046.04 1544.91 Q2048.7 1542.16 2053.28 1537.53 Q2057.89 1532.88 2059.07 1531.53 Q2061.32 1529.01 2062.2 1527.27 Q2063.1 1525.51 2063.1 1523.82 Q2063.1 1521.07 2061.15 1519.33 Q2059.23 1517.6 2056.13 1517.6 Q2053.93 1517.6 2051.48 1518.36 Q2049.05 1519.13 2046.27 1520.68 L2046.27 1515.95 Q2049.09 1514.82 2051.55 1514.24 Q2054 1513.66 2056.04 1513.66 Q2061.41 1513.66 2064.6 1516.35 Q2067.8 1519.03 2067.8 1523.52 Q2067.8 1525.65 2066.99 1527.57 Q2066.2 1529.47 2064.09 1532.07 Q2063.52 1532.74 2060.41 1535.95 Q2057.31 1539.15 2051.66 1544.91 Z\" fill=\"#000000\" fill-rule=\"nonzero\" fill-opacity=\"1\" /><path clip-path=\"url(#clip900)\" d=\"M2087.8 1517.37 Q2084.19 1517.37 2082.36 1520.93 Q2080.55 1524.47 2080.55 1531.6 Q2080.55 1538.71 2082.36 1542.27 Q2084.19 1545.82 2087.8 1545.82 Q2091.43 1545.82 2093.24 1542.27 Q2095.07 1538.71 2095.07 1531.6 Q2095.07 1524.47 2093.24 1520.93 Q2091.43 1517.37 2087.8 1517.37 M2087.8 1513.66 Q2093.61 1513.66 2096.66 1518.27 Q2099.74 1522.85 2099.74 1531.6 Q2099.74 1540.33 2096.66 1544.94 Q2093.61 1549.52 2087.8 1549.52 Q2081.99 1549.52 2078.91 1544.94 Q2075.85 1540.33 2075.85 1531.6 Q2075.85 1522.85 2078.91 1518.27 Q2081.99 1513.66 2087.8 1513.66 Z\" fill=\"#000000\" fill-rule=\"nonzero\" fill-opacity=\"1\" /><polyline clip-path=\"url(#clip902)\" style=\"stroke:#000000; stroke-linecap:round; stroke-linejoin:round; stroke-width:2; stroke-opacity:0.1; fill:none\" points=\"156.598,1326.42 2352.76,1326.42 \"/>\n",
       "<polyline clip-path=\"url(#clip902)\" style=\"stroke:#000000; stroke-linecap:round; stroke-linejoin:round; stroke-width:2; stroke-opacity:0.1; fill:none\" points=\"156.598,1129.45 2352.76,1129.45 \"/>\n",
       "<polyline clip-path=\"url(#clip902)\" style=\"stroke:#000000; stroke-linecap:round; stroke-linejoin:round; stroke-width:2; stroke-opacity:0.1; fill:none\" points=\"156.598,932.473 2352.76,932.473 \"/>\n",
       "<polyline clip-path=\"url(#clip902)\" style=\"stroke:#000000; stroke-linecap:round; stroke-linejoin:round; stroke-width:2; stroke-opacity:0.1; fill:none\" points=\"156.598,735.498 2352.76,735.498 \"/>\n",
       "<polyline clip-path=\"url(#clip902)\" style=\"stroke:#000000; stroke-linecap:round; stroke-linejoin:round; stroke-width:2; stroke-opacity:0.1; fill:none\" points=\"156.598,538.523 2352.76,538.523 \"/>\n",
       "<polyline clip-path=\"url(#clip902)\" style=\"stroke:#000000; stroke-linecap:round; stroke-linejoin:round; stroke-width:2; stroke-opacity:0.1; fill:none\" points=\"156.598,341.548 2352.76,341.548 \"/>\n",
       "<polyline clip-path=\"url(#clip902)\" style=\"stroke:#000000; stroke-linecap:round; stroke-linejoin:round; stroke-width:2; stroke-opacity:0.1; fill:none\" points=\"156.598,144.573 2352.76,144.573 \"/>\n",
       "<polyline clip-path=\"url(#clip900)\" style=\"stroke:#000000; stroke-linecap:round; stroke-linejoin:round; stroke-width:4; stroke-opacity:1; fill:none\" points=\"156.598,1486.45 156.598,47.2441 \"/>\n",
       "<polyline clip-path=\"url(#clip900)\" style=\"stroke:#000000; stroke-linecap:round; stroke-linejoin:round; stroke-width:4; stroke-opacity:1; fill:none\" points=\"156.598,1326.42 175.496,1326.42 \"/>\n",
       "<polyline clip-path=\"url(#clip900)\" style=\"stroke:#000000; stroke-linecap:round; stroke-linejoin:round; stroke-width:4; stroke-opacity:1; fill:none\" points=\"156.598,1129.45 175.496,1129.45 \"/>\n",
       "<polyline clip-path=\"url(#clip900)\" style=\"stroke:#000000; stroke-linecap:round; stroke-linejoin:round; stroke-width:4; stroke-opacity:1; fill:none\" points=\"156.598,932.473 175.496,932.473 \"/>\n",
       "<polyline clip-path=\"url(#clip900)\" style=\"stroke:#000000; stroke-linecap:round; stroke-linejoin:round; stroke-width:4; stroke-opacity:1; fill:none\" points=\"156.598,735.498 175.496,735.498 \"/>\n",
       "<polyline clip-path=\"url(#clip900)\" style=\"stroke:#000000; stroke-linecap:round; stroke-linejoin:round; stroke-width:4; stroke-opacity:1; fill:none\" points=\"156.598,538.523 175.496,538.523 \"/>\n",
       "<polyline clip-path=\"url(#clip900)\" style=\"stroke:#000000; stroke-linecap:round; stroke-linejoin:round; stroke-width:4; stroke-opacity:1; fill:none\" points=\"156.598,341.548 175.496,341.548 \"/>\n",
       "<polyline clip-path=\"url(#clip900)\" style=\"stroke:#000000; stroke-linecap:round; stroke-linejoin:round; stroke-width:4; stroke-opacity:1; fill:none\" points=\"156.598,144.573 175.496,144.573 \"/>\n",
       "<path clip-path=\"url(#clip900)\" d=\"M64.6495 1312.22 Q61.0384 1312.22 59.2097 1315.79 Q57.4041 1319.33 57.4041 1326.46 Q57.4041 1333.56 59.2097 1337.13 Q61.0384 1340.67 64.6495 1340.67 Q68.2837 1340.67 70.0892 1337.13 Q71.9179 1333.56 71.9179 1326.46 Q71.9179 1319.33 70.0892 1315.79 Q68.2837 1312.22 64.6495 1312.22 M64.6495 1308.52 Q70.4596 1308.52 73.5152 1313.12 Q76.5938 1317.71 76.5938 1326.46 Q76.5938 1335.18 73.5152 1339.79 Q70.4596 1344.37 64.6495 1344.37 Q58.8393 1344.37 55.7606 1339.79 Q52.7051 1335.18 52.7051 1326.46 Q52.7051 1317.71 55.7606 1313.12 Q58.8393 1308.52 64.6495 1308.52 Z\" fill=\"#000000\" fill-rule=\"nonzero\" fill-opacity=\"1\" /><path clip-path=\"url(#clip900)\" d=\"M84.8114 1337.82 L89.6956 1337.82 L89.6956 1343.7 L84.8114 1343.7 L84.8114 1337.82 Z\" fill=\"#000000\" fill-rule=\"nonzero\" fill-opacity=\"1\" /><path clip-path=\"url(#clip900)\" d=\"M100.691 1339.77 L108.33 1339.77 L108.33 1313.4 L100.02 1315.07 L100.02 1310.81 L108.283 1309.14 L112.959 1309.14 L112.959 1339.77 L120.598 1339.77 L120.598 1343.7 L100.691 1343.7 L100.691 1339.77 Z\" fill=\"#000000\" fill-rule=\"nonzero\" fill-opacity=\"1\" /><path clip-path=\"url(#clip900)\" d=\"M65.0198 1115.25 Q61.4087 1115.25 59.58 1118.81 Q57.7745 1122.35 57.7745 1129.48 Q57.7745 1136.59 59.58 1140.15 Q61.4087 1143.7 65.0198 1143.7 Q68.6541 1143.7 70.4596 1140.15 Q72.2883 1136.59 72.2883 1129.48 Q72.2883 1122.35 70.4596 1118.81 Q68.6541 1115.25 65.0198 1115.25 M65.0198 1111.54 Q70.83 1111.54 73.8855 1116.15 Q76.9642 1120.73 76.9642 1129.48 Q76.9642 1138.21 73.8855 1142.82 Q70.83 1147.4 65.0198 1147.4 Q59.2097 1147.4 56.131 1142.82 Q53.0754 1138.21 53.0754 1129.48 Q53.0754 1120.73 56.131 1116.15 Q59.2097 1111.54 65.0198 1111.54 Z\" fill=\"#000000\" fill-rule=\"nonzero\" fill-opacity=\"1\" /><path clip-path=\"url(#clip900)\" d=\"M85.1818 1140.85 L90.066 1140.85 L90.066 1146.73 L85.1818 1146.73 L85.1818 1140.85 Z\" fill=\"#000000\" fill-rule=\"nonzero\" fill-opacity=\"1\" /><path clip-path=\"url(#clip900)\" d=\"M104.279 1142.79 L120.598 1142.79 L120.598 1146.73 L98.6539 1146.73 L98.6539 1142.79 Q101.316 1140.04 105.899 1135.41 Q110.506 1130.76 111.686 1129.41 Q113.932 1126.89 114.811 1125.15 Q115.714 1123.39 115.714 1121.7 Q115.714 1118.95 113.77 1117.21 Q111.848 1115.48 108.746 1115.48 Q106.547 1115.48 104.094 1116.24 Q101.663 1117.01 98.8854 1118.56 L98.8854 1113.83 Q101.709 1112.7 104.163 1112.12 Q106.617 1111.54 108.654 1111.54 Q114.024 1111.54 117.219 1114.23 Q120.413 1116.91 120.413 1121.4 Q120.413 1123.53 119.603 1125.45 Q118.816 1127.35 116.709 1129.95 Q116.131 1130.62 113.029 1133.83 Q109.927 1137.03 104.279 1142.79 Z\" fill=\"#000000\" fill-rule=\"nonzero\" fill-opacity=\"1\" /><path clip-path=\"url(#clip900)\" d=\"M64.0708 918.271 Q60.4597 918.271 58.631 921.836 Q56.8254 925.378 56.8254 932.508 Q56.8254 939.614 58.631 943.179 Q60.4597 946.72 64.0708 946.72 Q67.705 946.72 69.5105 943.179 Q71.3392 939.614 71.3392 932.508 Q71.3392 925.378 69.5105 921.836 Q67.705 918.271 64.0708 918.271 M64.0708 914.568 Q69.8809 914.568 72.9365 919.174 Q76.0151 923.758 76.0151 932.508 Q76.0151 941.234 72.9365 945.841 Q69.8809 950.424 64.0708 950.424 Q58.2606 950.424 55.1819 945.841 Q52.1264 941.234 52.1264 932.508 Q52.1264 923.758 55.1819 919.174 Q58.2606 914.568 64.0708 914.568 Z\" fill=\"#000000\" fill-rule=\"nonzero\" fill-opacity=\"1\" /><path clip-path=\"url(#clip900)\" d=\"M84.2327 943.873 L89.1169 943.873 L89.1169 949.753 L84.2327 949.753 L84.2327 943.873 Z\" fill=\"#000000\" fill-rule=\"nonzero\" fill-opacity=\"1\" /><path clip-path=\"url(#clip900)\" d=\"M113.469 931.119 Q116.825 931.836 118.7 934.105 Q120.598 936.373 120.598 939.707 Q120.598 944.822 117.08 947.623 Q113.561 950.424 107.08 950.424 Q104.904 950.424 102.589 949.984 Q100.297 949.568 97.8437 948.711 L97.8437 944.197 Q99.7882 945.332 102.103 945.91 Q104.418 946.489 106.941 946.489 Q111.339 946.489 113.631 944.753 Q115.945 943.017 115.945 939.707 Q115.945 936.651 113.793 934.938 Q111.663 933.202 107.844 933.202 L103.816 933.202 L103.816 929.359 L108.029 929.359 Q111.478 929.359 113.307 927.994 Q115.135 926.605 115.135 924.012 Q115.135 921.35 113.237 919.938 Q111.362 918.503 107.844 918.503 Q105.922 918.503 103.723 918.92 Q101.524 919.336 98.8854 920.216 L98.8854 916.049 Q101.547 915.309 103.862 914.938 Q106.2 914.568 108.26 914.568 Q113.584 914.568 116.686 916.998 Q119.788 919.406 119.788 923.526 Q119.788 926.396 118.145 928.387 Q116.501 930.355 113.469 931.119 Z\" fill=\"#000000\" fill-rule=\"nonzero\" fill-opacity=\"1\" /><path clip-path=\"url(#clip900)\" d=\"M62.9365 721.296 Q59.3254 721.296 57.4967 724.861 Q55.6912 728.403 55.6912 735.532 Q55.6912 742.639 57.4967 746.204 Q59.3254 749.745 62.9365 749.745 Q66.5707 749.745 68.3763 746.204 Q70.205 742.639 70.205 735.532 Q70.205 728.403 68.3763 724.861 Q66.5707 721.296 62.9365 721.296 M62.9365 717.593 Q68.7467 717.593 71.8022 722.199 Q74.8809 726.782 74.8809 735.532 Q74.8809 744.259 71.8022 748.866 Q68.7467 753.449 62.9365 753.449 Q57.1264 753.449 54.0477 748.866 Q50.9921 744.259 50.9921 735.532 Q50.9921 726.782 54.0477 722.199 Q57.1264 717.593 62.9365 717.593 Z\" fill=\"#000000\" fill-rule=\"nonzero\" fill-opacity=\"1\" /><path clip-path=\"url(#clip900)\" d=\"M83.0984 746.898 L87.9827 746.898 L87.9827 752.778 L83.0984 752.778 L83.0984 746.898 Z\" fill=\"#000000\" fill-rule=\"nonzero\" fill-opacity=\"1\" /><path clip-path=\"url(#clip900)\" d=\"M111.015 722.292 L99.2095 740.741 L111.015 740.741 L111.015 722.292 M109.788 718.218 L115.668 718.218 L115.668 740.741 L120.598 740.741 L120.598 744.63 L115.668 744.63 L115.668 752.778 L111.015 752.778 L111.015 744.63 L95.4132 744.63 L95.4132 740.116 L109.788 718.218 Z\" fill=\"#000000\" fill-rule=\"nonzero\" fill-opacity=\"1\" /><path clip-path=\"url(#clip900)\" d=\"M64.418 524.321 Q60.8069 524.321 58.9782 527.886 Q57.1726 531.428 57.1726 538.557 Q57.1726 545.664 58.9782 549.229 Q60.8069 552.77 64.418 552.77 Q68.0522 552.77 69.8578 549.229 Q71.6865 545.664 71.6865 538.557 Q71.6865 531.428 69.8578 527.886 Q68.0522 524.321 64.418 524.321 M64.418 520.618 Q70.2281 520.618 73.2837 525.224 Q76.3624 529.807 76.3624 538.557 Q76.3624 547.284 73.2837 551.891 Q70.2281 556.474 64.418 556.474 Q58.6078 556.474 55.5291 551.891 Q52.4736 547.284 52.4736 538.557 Q52.4736 529.807 55.5291 525.224 Q58.6078 520.618 64.418 520.618 Z\" fill=\"#000000\" fill-rule=\"nonzero\" fill-opacity=\"1\" /><path clip-path=\"url(#clip900)\" d=\"M84.5799 549.923 L89.4641 549.923 L89.4641 555.803 L84.5799 555.803 L84.5799 549.923 Z\" fill=\"#000000\" fill-rule=\"nonzero\" fill-opacity=\"1\" /><path clip-path=\"url(#clip900)\" d=\"M99.6956 521.243 L118.052 521.243 L118.052 525.178 L103.978 525.178 L103.978 533.65 Q104.996 533.303 106.015 533.141 Q107.033 532.956 108.052 532.956 Q113.839 532.956 117.219 536.127 Q120.598 539.298 120.598 544.715 Q120.598 550.293 117.126 553.395 Q113.654 556.474 107.334 556.474 Q105.159 556.474 102.89 556.104 Q100.645 555.733 98.2372 554.992 L98.2372 550.293 Q100.321 551.428 102.543 551.983 Q104.765 552.539 107.242 552.539 Q111.246 552.539 113.584 550.432 Q115.922 548.326 115.922 544.715 Q115.922 541.104 113.584 538.997 Q111.246 536.891 107.242 536.891 Q105.367 536.891 103.492 537.307 Q101.64 537.724 99.6956 538.604 L99.6956 521.243 Z\" fill=\"#000000\" fill-rule=\"nonzero\" fill-opacity=\"1\" /><path clip-path=\"url(#clip900)\" d=\"M63.2606 327.346 Q59.6495 327.346 57.8208 330.911 Q56.0152 334.453 56.0152 341.582 Q56.0152 348.689 57.8208 352.254 Q59.6495 355.795 63.2606 355.795 Q66.8948 355.795 68.7004 352.254 Q70.5291 348.689 70.5291 341.582 Q70.5291 334.453 68.7004 330.911 Q66.8948 327.346 63.2606 327.346 M63.2606 323.643 Q69.0707 323.643 72.1263 328.249 Q75.205 332.832 75.205 341.582 Q75.205 350.309 72.1263 354.916 Q69.0707 359.499 63.2606 359.499 Q57.4504 359.499 54.3717 354.916 Q51.3162 350.309 51.3162 341.582 Q51.3162 332.832 54.3717 328.249 Q57.4504 323.643 63.2606 323.643 Z\" fill=\"#000000\" fill-rule=\"nonzero\" fill-opacity=\"1\" /><path clip-path=\"url(#clip900)\" d=\"M83.4225 352.948 L88.3067 352.948 L88.3067 358.828 L83.4225 358.828 L83.4225 352.948 Z\" fill=\"#000000\" fill-rule=\"nonzero\" fill-opacity=\"1\" /><path clip-path=\"url(#clip900)\" d=\"M109.071 339.684 Q105.922 339.684 104.071 341.837 Q102.242 343.99 102.242 347.74 Q102.242 351.467 104.071 353.642 Q105.922 355.795 109.071 355.795 Q112.219 355.795 114.047 353.642 Q115.899 351.467 115.899 347.74 Q115.899 343.99 114.047 341.837 Q112.219 339.684 109.071 339.684 M118.353 325.031 L118.353 329.291 Q116.594 328.457 114.788 328.018 Q113.006 327.578 111.246 327.578 Q106.617 327.578 104.163 330.703 Q101.733 333.828 101.385 340.147 Q102.751 338.133 104.811 337.068 Q106.871 335.981 109.348 335.981 Q114.557 335.981 117.566 339.152 Q120.598 342.3 120.598 347.74 Q120.598 353.064 117.45 356.281 Q114.302 359.499 109.071 359.499 Q103.075 359.499 99.9039 354.916 Q96.7326 350.309 96.7326 341.582 Q96.7326 333.388 100.621 328.527 Q104.51 323.643 111.061 323.643 Q112.82 323.643 114.603 323.99 Q116.408 324.337 118.353 325.031 Z\" fill=\"#000000\" fill-rule=\"nonzero\" fill-opacity=\"1\" /><path clip-path=\"url(#clip900)\" d=\"M64.3254 130.371 Q60.7143 130.371 58.8856 133.936 Q57.0801 137.478 57.0801 144.607 Q57.0801 151.714 58.8856 155.279 Q60.7143 158.82 64.3254 158.82 Q67.9596 158.82 69.7652 155.279 Q71.5939 151.714 71.5939 144.607 Q71.5939 137.478 69.7652 133.936 Q67.9596 130.371 64.3254 130.371 M64.3254 126.668 Q70.1355 126.668 73.1911 131.274 Q76.2698 135.857 76.2698 144.607 Q76.2698 153.334 73.1911 157.941 Q70.1355 162.524 64.3254 162.524 Q58.5152 162.524 55.4365 157.941 Q52.381 153.334 52.381 144.607 Q52.381 135.857 55.4365 131.274 Q58.5152 126.668 64.3254 126.668 Z\" fill=\"#000000\" fill-rule=\"nonzero\" fill-opacity=\"1\" /><path clip-path=\"url(#clip900)\" d=\"M84.4873 155.973 L89.3715 155.973 L89.3715 161.853 L84.4873 161.853 L84.4873 155.973 Z\" fill=\"#000000\" fill-rule=\"nonzero\" fill-opacity=\"1\" /><path clip-path=\"url(#clip900)\" d=\"M98.3761 127.293 L120.598 127.293 L120.598 129.283 L108.052 161.853 L103.168 161.853 L114.973 131.228 L98.3761 131.228 L98.3761 127.293 Z\" fill=\"#000000\" fill-rule=\"nonzero\" fill-opacity=\"1\" /><polyline clip-path=\"url(#clip902)\" style=\"stroke:#009af9; stroke-linecap:round; stroke-linejoin:round; stroke-width:4; stroke-opacity:1; fill:none\" points=\"218.754,1445.72 234.215,1445.46 249.677,1444.68 265.138,1443.38 280.6,1441.55 296.061,1439.19 311.523,1436.27 326.984,1432.79 342.446,1428.73 357.908,1424.06 373.369,1418.77 388.831,1412.83 404.292,1406.22 419.754,1398.91 435.215,1390.86 450.677,1382.05 466.138,1372.45 481.6,1362.01 497.061,1350.71 512.523,1338.51 527.985,1325.37 543.446,1311.25 558.908,1296.14 574.369,1279.98 589.831,1262.76 605.292,1244.43 620.754,1224.98 636.215,1204.38 651.677,1182.62 667.138,1159.68 682.6,1135.55 698.061,1110.23 713.523,1083.72 728.985,1056.04 744.446,1027.2 759.908,997.244 775.369,966.199 790.831,934.116 806.292,901.052 821.754,867.077 837.215,832.268 852.677,796.717 868.138,760.525 883.6,723.804 899.062,686.675 914.523,649.273 929.985,611.738 945.446,574.222 960.908,536.885 976.369,499.893 991.831,463.418 1007.29,427.638 1022.75,392.732 1038.22,358.884 1053.68,326.275 1069.14,295.087 1084.6,265.498 1100.06,237.679 1115.52,211.797 1130.98,188.01 1146.45,166.465 1161.91,147.297 1177.37,130.63 1192.83,116.57 1208.29,105.208 1223.75,96.6211 1239.22,90.8643 1254.68,87.9763 1270.14,87.9763 1285.6,90.8643 1301.06,96.6211 1316.52,105.208 1331.98,116.57 1347.45,130.63 1362.91,147.297 1378.37,166.465 1393.83,188.01 1409.29,211.797 1424.75,237.679 1440.22,265.498 1455.68,295.087 1471.14,326.275 1486.6,358.884 1502.06,392.732 1517.52,427.638 1532.98,463.418 1548.45,499.893 1563.91,536.885 1579.37,574.222 1594.83,611.738 1610.29,649.273 1625.75,686.675 1641.22,723.804 1656.68,760.525 1672.14,796.717 1687.6,832.268 1703.06,867.077 1718.52,901.052 1733.98,934.116 1749.45,966.199 1764.91,997.244 1780.37,1027.2 1795.83,1056.04 1811.29,1083.72 1826.75,1110.23 1842.22,1135.55 1857.68,1159.68 1873.14,1182.62 1888.6,1204.38 1904.06,1224.98 1919.52,1244.43 1934.98,1262.76 1950.45,1279.98 1965.91,1296.14 1981.37,1311.25 1996.83,1325.37 2012.29,1338.51 2027.75,1350.71 2043.22,1362.01 2058.68,1372.45 2074.14,1382.05 2089.6,1390.86 2105.06,1398.91 2120.52,1406.22 2135.99,1412.83 2151.45,1418.77 2166.91,1424.06 2182.37,1428.73 2197.83,1432.79 2213.29,1436.27 2228.75,1439.19 2244.22,1441.55 2259.68,1443.38 2275.14,1444.68 2290.6,1445.46 \"/>\n",
       "</svg>\n"
      ]
     },
     "execution_count": 6,
     "metadata": {},
     "output_type": "execute_result"
    }
   ],
   "source": [
    "using Plots\n",
    "\n",
    "ψ_fourier = scfres.ψ[1][:, 1];    # first k-point, all G components, first eigenvector\n",
    "# Transform the wave function to real space\n",
    "ψ = ifft(basis, basis.kpoints[1], ψ_fourier)[:, 1, 1]\n",
    "# Eigenvectors are only defined up to a phase. We fix it by imposing that psi(0) is real\n",
    "ψ /= (ψ[1] / abs(ψ[1]))\n",
    "plot(real(ψ); label=\"\")"
   ]
  },
  {
   "cell_type": "markdown",
   "metadata": {},
   "source": [
    "and we can look at the Fourier coefficients similarly easily:"
   ]
  },
  {
   "cell_type": "markdown",
   "metadata": {},
   "source": [
    "## The DFTK Hamiltonian\n",
    "We can ask DFTK for the Hamiltonian"
   ]
  },
  {
   "cell_type": "code",
   "execution_count": 7,
   "metadata": {},
   "outputs": [
    {
     "data": {
      "text/plain": [
       "DFTK.DftHamiltonianBlock"
      ]
     },
     "execution_count": 7,
     "metadata": {},
     "output_type": "execute_result"
    }
   ],
   "source": [
    "E, ham = energy_hamiltonian(basis, scfres.ψ, scfres.occupation;\n",
    "                            ρ=scfres.ρ)\n",
    "H = ham[1]\n",
    "typeof(H)"
   ]
  },
  {
   "cell_type": "markdown",
   "metadata": {},
   "source": [
    "This is an opaque data structure, which encodes the Hamiltonian. What can we do with it?"
   ]
  },
  {
   "cell_type": "code",
   "execution_count": 8,
   "metadata": {},
   "outputs": [
    {
     "data": {
      "text/html": [
       "9-element Vector{Method}:<ul><li> Array(block::<b>HamiltonianBlock</b>) in DFTK at <a href=\"file:///home/mfh/.julia/packages/DFTK/cvuxi/src/terms/Hamiltonian.jl\" target=\"_blank\">/home/mfh/.julia/packages/DFTK/cvuxi/src/terms/Hamiltonian.jl:74</a><li> *(H::<b>HamiltonianBlock</b>, ψ) in DFTK at <a href=\"file:///home/mfh/.julia/packages/DFTK/cvuxi/src/terms/Hamiltonian.jl\" target=\"_blank\">/home/mfh/.julia/packages/DFTK/cvuxi/src/terms/Hamiltonian.jl:62</a><li> (Matrix)(block::<b>HamiltonianBlock</b>) in DFTK at <a href=\"file:///home/mfh/.julia/packages/DFTK/cvuxi/src/terms/Hamiltonian.jl\" target=\"_blank\">/home/mfh/.julia/packages/DFTK/cvuxi/src/terms/Hamiltonian.jl:75</a><li> eltype(block::<b>HamiltonianBlock</b>) in DFTK at <a href=\"file:///home/mfh/.julia/packages/DFTK/cvuxi/src/terms/Hamiltonian.jl\" target=\"_blank\">/home/mfh/.julia/packages/DFTK/cvuxi/src/terms/Hamiltonian.jl:63</a><li> size(block::<b>HamiltonianBlock</b>, i::<b>Integer</b>) in DFTK at <a href=\"file:///home/mfh/.julia/packages/DFTK/cvuxi/src/terms/Hamiltonian.jl\" target=\"_blank\">/home/mfh/.julia/packages/DFTK/cvuxi/src/terms/Hamiltonian.jl:64</a><li> size(block::<b>HamiltonianBlock</b>) in DFTK at <a href=\"file:///home/mfh/.julia/packages/DFTK/cvuxi/src/terms/Hamiltonian.jl\" target=\"_blank\">/home/mfh/.julia/packages/DFTK/cvuxi/src/terms/Hamiltonian.jl:65</a><li> mul!(Hψ::<b>AbstractArray</b>, H::<b>DFTK.DftHamiltonianBlock</b>, ψ::<b>AbstractArray</b>) in DFTK at <a href=\"file:///home/mfh/.julia/packages/TimerOutputs/RsWnF/src/TimerOutput.jl\" target=\"_blank\">/home/mfh/.julia/packages/TimerOutputs/RsWnF/src/TimerOutput.jl:230</a><li> PreconditionerNone(::<b>HamiltonianBlock</b>) in DFTK at <a href=\"file:///home/mfh/.julia/packages/DFTK/cvuxi/src/eigen/preconditioners.jl\" target=\"_blank\">/home/mfh/.julia/packages/DFTK/cvuxi/src/eigen/preconditioners.jl:21</a><li> PreconditionerTPA(ham::<b>HamiltonianBlock</b>; <i>kwargs...</i>) in DFTK at <a href=\"file:///home/mfh/.julia/packages/DFTK/cvuxi/src/eigen/preconditioners.jl\" target=\"_blank\">/home/mfh/.julia/packages/DFTK/cvuxi/src/eigen/preconditioners.jl:45</a></ul>"
      ],
      "text/plain": [
       "[1] Array(\u001b[90mblock\u001b[39m::\u001b[1mHamiltonianBlock\u001b[22m)\u001b[90m @\u001b[39m \u001b[90mDFTK\u001b[39m \u001b[90m~/.julia/packages/DFTK/cvuxi/src/terms/\u001b[39m\u001b[90m\u001b[4mHamiltonian.jl:74\u001b[24m\u001b[39m\n",
       "[2] *(\u001b[90mH\u001b[39m::\u001b[1mHamiltonianBlock\u001b[22m, \u001b[90mψ\u001b[39m)\u001b[90m @\u001b[39m \u001b[90mDFTK\u001b[39m \u001b[90m~/.julia/packages/DFTK/cvuxi/src/terms/\u001b[39m\u001b[90m\u001b[4mHamiltonian.jl:62\u001b[24m\u001b[39m\n",
       "[3] (Matrix)(\u001b[90mblock\u001b[39m::\u001b[1mHamiltonianBlock\u001b[22m)\u001b[90m @\u001b[39m \u001b[90mDFTK\u001b[39m \u001b[90m~/.julia/packages/DFTK/cvuxi/src/terms/\u001b[39m\u001b[90m\u001b[4mHamiltonian.jl:75\u001b[24m\u001b[39m\n",
       "[4] eltype(\u001b[90mblock\u001b[39m::\u001b[1mHamiltonianBlock\u001b[22m)\u001b[90m @\u001b[39m \u001b[90mDFTK\u001b[39m \u001b[90m~/.julia/packages/DFTK/cvuxi/src/terms/\u001b[39m\u001b[90m\u001b[4mHamiltonian.jl:63\u001b[24m\u001b[39m\n",
       "[5] size(\u001b[90mblock\u001b[39m::\u001b[1mHamiltonianBlock\u001b[22m, \u001b[90mi\u001b[39m::\u001b[1mInteger\u001b[22m)\u001b[90m @\u001b[39m \u001b[90mDFTK\u001b[39m \u001b[90m~/.julia/packages/DFTK/cvuxi/src/terms/\u001b[39m\u001b[90m\u001b[4mHamiltonian.jl:64\u001b[24m\u001b[39m\n",
       "[6] size(\u001b[90mblock\u001b[39m::\u001b[1mHamiltonianBlock\u001b[22m)\u001b[90m @\u001b[39m \u001b[90mDFTK\u001b[39m \u001b[90m~/.julia/packages/DFTK/cvuxi/src/terms/\u001b[39m\u001b[90m\u001b[4mHamiltonian.jl:65\u001b[24m\u001b[39m\n",
       "[7] mul!(\u001b[90mHψ\u001b[39m::\u001b[1mAbstractArray\u001b[22m, \u001b[90mH\u001b[39m::\u001b[1mDFTK.DftHamiltonianBlock\u001b[22m, \u001b[90mψ\u001b[39m::\u001b[1mAbstractArray\u001b[22m)\u001b[90m @\u001b[39m \u001b[90mDFTK\u001b[39m \u001b[90m~/.julia/packages/TimerOutputs/RsWnF/src/\u001b[39m\u001b[90m\u001b[4mTimerOutput.jl:230\u001b[24m\u001b[39m\n",
       "[8] PreconditionerNone(::\u001b[1mHamiltonianBlock\u001b[22m)\u001b[90m @\u001b[39m \u001b[90mDFTK\u001b[39m \u001b[90m~/.julia/packages/DFTK/cvuxi/src/eigen/\u001b[39m\u001b[90m\u001b[4mpreconditioners.jl:21\u001b[24m\u001b[39m\n",
       "[9] PreconditionerTPA(\u001b[90mham\u001b[39m::\u001b[1mHamiltonianBlock\u001b[22m; kwargs...)\u001b[90m @\u001b[39m \u001b[90mDFTK\u001b[39m \u001b[90m~/.julia/packages/DFTK/cvuxi/src/eigen/\u001b[39m\u001b[90m\u001b[4mpreconditioners.jl:45\u001b[24m\u001b[39m"
      ]
     },
     "execution_count": 8,
     "metadata": {},
     "output_type": "execute_result"
    }
   ],
   "source": [
    "using InteractiveUtils\n",
    "methodswith(typeof(H), supertypes=true)"
   ]
  },
  {
   "cell_type": "markdown",
   "metadata": {},
   "source": [
    "This defines a number of methods. For instance, it can be used as a linear operator:"
   ]
  },
  {
   "cell_type": "code",
   "execution_count": 9,
   "metadata": {},
   "outputs": [
    {
     "data": {
      "text/plain": [
       "63×1 Matrix{ComplexF64}:\n",
       "  -0.07199197349550847 + 0.02985572801672903im\n",
       "  0.010745160145909795 + 0.00271027750578204im\n",
       "     0.156202543258937 + 0.1178308049104572im\n",
       "  -0.29217759848238256 + 0.0407671411451903im\n",
       "   0.26822789164544203 - 0.7305679188280638im\n",
       "  -0.11816978270040723 + 2.6829821335816195im\n",
       " -0.017288774628414535 - 0.6640987772017206im\n",
       "    -3.097851348195021 + 4.225759447501951im\n",
       "   -2.1149822241349416 + 3.01887492896433im\n",
       "    11.175172966733193 - 2.4632867300913395im\n",
       "     2.817333898313969 + 2.2509244792122516im\n",
       "     9.388754014328944 + 7.63036855401389im\n",
       "      4.68283895097643 - 0.6085998760129536im\n",
       "                       ⋮\n",
       "   -2.4597430687783355 + 9.613946688521649im\n",
       "     -9.13971808202327 - 2.1398078586677847im\n",
       "    -9.045552734455097 + 2.6332861060882133im\n",
       "    0.5852127832676497 - 1.8493465723580438im\n",
       "   -3.4193212244977857 + 0.21929832521912843im\n",
       "     3.762721894479373 - 2.2153394699206115im\n",
       "   -0.5740362784393942 + 2.1039233853126724im\n",
       "   -0.5005188226385069 + 0.31928148914422005im\n",
       "   -1.0894902088071243 - 0.003943790466429654im\n",
       "  0.002077131713017606 - 0.14463610242473224im\n",
       "   0.00764754875602755 + 0.005329570100639378im\n",
       "  -0.02914216922224705 - 0.02026724728410023im"
      ]
     },
     "execution_count": 9,
     "metadata": {},
     "output_type": "execute_result"
    }
   ],
   "source": [
    "H * DFTK.random_orbitals(basis, basis.kpoints[1], 1)"
   ]
  },
  {
   "cell_type": "markdown",
   "metadata": {},
   "source": [
    "We can also get its full matrix representation:"
   ]
  },
  {
   "cell_type": "code",
   "execution_count": 10,
   "metadata": {},
   "outputs": [
    {
     "data": {
      "text/plain": [
       "63×63 Matrix{ComplexF64}:\n",
       " -3.54526e-17+0.0im          …           0.5-5.31073e-17im\n",
       "          0.5-5.31073e-17im      1.61891e-17+7.85117e-18im\n",
       "  1.61891e-17+7.85117e-18im      -1.3268e-18+3.621e-18im\n",
       "  -1.3268e-18+3.621e-18im       -7.46547e-19-1.64087e-17im\n",
       " -7.46547e-19-1.64087e-17im      1.17262e-17-8.51348e-18im\n",
       "  1.17262e-17-8.51348e-18im  …   8.28558e-18+4.58885e-18im\n",
       "  8.28558e-18+4.58885e-18im     -1.01867e-17+1.95109e-17im\n",
       " -1.01867e-17+1.95109e-17im      5.05619e-18+8.61013e-18im\n",
       "  5.05619e-18+8.61013e-18im      2.06743e-18+3.50495e-18im\n",
       "  2.06743e-18+3.50495e-18im     -2.56573e-18+1.79786e-18im\n",
       " -2.56573e-18+1.79786e-18im  …  -9.98231e-18+6.03587e-18im\n",
       " -9.98231e-18+6.03587e-18im     -2.83101e-17-3.72189e-19im\n",
       " -2.83101e-17-3.72189e-19im      -4.8562e-18-3.6278e-17im\n",
       "             ⋮               ⋱  \n",
       " -2.83101e-17+3.72189e-19im     -9.98231e-18-6.03587e-18im\n",
       " -9.98231e-18-6.03587e-18im     -2.56573e-18-1.79786e-18im\n",
       " -2.56573e-18-1.79786e-18im      2.06743e-18-3.50495e-18im\n",
       "  2.06743e-18-3.50495e-18im      5.05619e-18-8.61013e-18im\n",
       "  5.05619e-18-8.61013e-18im  …  -1.01867e-17-1.95109e-17im\n",
       " -1.01867e-17-1.95109e-17im      8.28558e-18-4.58885e-18im\n",
       "  8.28558e-18-4.58885e-18im      1.17262e-17+8.51348e-18im\n",
       "  1.17262e-17+8.51348e-18im     -7.46547e-19+1.64087e-17im\n",
       " -7.46547e-19+1.64087e-17im      -1.3268e-18-3.621e-18im\n",
       "  -1.3268e-18-3.621e-18im    …   1.61891e-17-7.85117e-18im\n",
       "  1.61891e-17-7.85117e-18im              0.5+6.52918e-17im\n",
       "          0.5+6.52918e-17im              0.5+0.0im"
      ]
     },
     "execution_count": 10,
     "metadata": {},
     "output_type": "execute_result"
    }
   ],
   "source": [
    "Array(H)"
   ]
  },
  {
   "cell_type": "markdown",
   "metadata": {},
   "source": [
    "or supressing the small entries and the imaginary parts (which are zero by symmetry):"
   ]
  },
  {
   "cell_type": "code",
   "execution_count": 11,
   "metadata": {},
   "outputs": [
    {
     "data": {
      "text/plain": [
       "63×63 Matrix{Float64}:\n",
       " 0.0  0.5  0.0  0.0  0.0   0.0   0.0   0.0  …   0.0   0.0  0.0  0.0  0.0  0.5\n",
       " 0.5  0.5  0.5  0.0  0.0   0.0   0.0   0.0      0.0   0.0  0.0  0.0  0.0  0.0\n",
       " 0.0  0.5  2.0  0.5  0.0   0.0   0.0   0.0      0.0   0.0  0.0  0.0  0.0  0.0\n",
       " 0.0  0.0  0.5  4.5  0.5   0.0   0.0   0.0      0.0   0.0  0.0  0.0  0.0  0.0\n",
       " 0.0  0.0  0.0  0.5  8.0   0.5   0.0   0.0      0.0   0.0  0.0  0.0  0.0  0.0\n",
       " 0.0  0.0  0.0  0.0  0.5  12.5   0.5   0.0  …   0.0   0.0  0.0  0.0  0.0  0.0\n",
       " 0.0  0.0  0.0  0.0  0.0   0.5  18.0   0.5      0.0   0.0  0.0  0.0  0.0  0.0\n",
       " 0.0  0.0  0.0  0.0  0.0   0.0   0.5  24.5      0.0   0.0  0.0  0.0  0.0  0.0\n",
       " 0.0  0.0  0.0  0.0  0.0   0.0   0.0   0.5      0.0   0.0  0.0  0.0  0.0  0.0\n",
       " 0.0  0.0  0.0  0.0  0.0   0.0   0.0   0.0      0.0   0.0  0.0  0.0  0.0  0.0\n",
       " 0.0  0.0  0.0  0.0  0.0   0.0   0.0   0.0  …   0.0   0.0  0.0  0.0  0.0  0.0\n",
       " 0.0  0.0  0.0  0.0  0.0   0.0   0.0   0.0      0.0   0.0  0.0  0.0  0.0  0.0\n",
       " 0.0  0.0  0.0  0.0  0.0   0.0   0.0   0.0      0.0   0.0  0.0  0.0  0.0  0.0\n",
       " ⋮                         ⋮                ⋱                   ⋮         \n",
       " 0.0  0.0  0.0  0.0  0.0   0.0   0.0   0.0      0.0   0.0  0.0  0.0  0.0  0.0\n",
       " 0.0  0.0  0.0  0.0  0.0   0.0   0.0   0.0      0.0   0.0  0.0  0.0  0.0  0.0\n",
       " 0.0  0.0  0.0  0.0  0.0   0.0   0.0   0.0      0.0   0.0  0.0  0.0  0.0  0.0\n",
       " 0.0  0.0  0.0  0.0  0.0   0.0   0.0   0.0      0.0   0.0  0.0  0.0  0.0  0.0\n",
       " 0.0  0.0  0.0  0.0  0.0   0.0   0.0   0.0  …   0.0   0.0  0.0  0.0  0.0  0.0\n",
       " 0.0  0.0  0.0  0.0  0.0   0.0   0.0   0.0      0.5   0.0  0.0  0.0  0.0  0.0\n",
       " 0.0  0.0  0.0  0.0  0.0   0.0   0.0   0.0     18.0   0.5  0.0  0.0  0.0  0.0\n",
       " 0.0  0.0  0.0  0.0  0.0   0.0   0.0   0.0      0.5  12.5  0.5  0.0  0.0  0.0\n",
       " 0.0  0.0  0.0  0.0  0.0   0.0   0.0   0.0      0.0   0.5  8.0  0.5  0.0  0.0\n",
       " 0.0  0.0  0.0  0.0  0.0   0.0   0.0   0.0  …   0.0   0.0  0.5  4.5  0.5  0.0\n",
       " 0.0  0.0  0.0  0.0  0.0   0.0   0.0   0.0      0.0   0.0  0.0  0.5  2.0  0.5\n",
       " 0.5  0.0  0.0  0.0  0.0   0.0   0.0   0.0      0.0   0.0  0.0  0.0  0.5  0.5"
      ]
     },
     "execution_count": 11,
     "metadata": {},
     "output_type": "execute_result"
    }
   ],
   "source": [
    "H_filtered = real(Array(H))\n",
    "H_filtered[abs.(H_filtered) .< 1e-6] .= 0\n",
    "H_filtered"
   ]
  },
  {
   "cell_type": "markdown",
   "metadata": {},
   "source": [
    "## Coding up our own eigensolver\n",
    "\n",
    "A simple (and not fully numerically stable) implementation of LOBPCG is given below.\n",
    "\n",
    "It is a simplified version of the [implementation we employ in DFTK](https://github.com/JuliaMolSim/DFTK.jl/blob/3cd0bd40658ead7146de8945a7156f2b15ffc711/src/eigen/lobpcg_hyper_impl.jl)."
   ]
  },
  {
   "cell_type": "code",
   "execution_count": 12,
   "metadata": {
    "scrolled": true
   },
   "outputs": [
    {
     "data": {
      "text/plain": [
       "lobpcg (generic function with 1 method)"
      ]
     },
     "execution_count": 12,
     "metadata": {},
     "output_type": "execute_result"
    }
   ],
   "source": [
    "function qrortho(X::ArrayType) where {ArrayType <: AbstractArray}\n",
    "    convert(ArrayType, qr(X).Q)\n",
    "end\n",
    "qrortho(X, Y) = qrortho(X - Y * Y'X)\n",
    "\n",
    "function rayleigh_ritz(X::Array, AX::Array, N)\n",
    "    F = eigen(Hermitian(X'AX))\n",
    "    F.vectors[:,1:N], F.values[1:N]\n",
    "end\n",
    "\n",
    "function lobpcg(A, X; prec=I, tol=1e-7, maxiter=100, display_progress=false, kwargs...)\n",
    "    N, M = size(X)\n",
    "    X  = qrortho(X)\n",
    "    AX = A * X\n",
    "    λs = diag(X'AX)  # X are orthonormal\n",
    "\n",
    "    P  = nothing\n",
    "    AP = nothing\n",
    "    R  = nothing\n",
    "    AR = nothing\n",
    "\n",
    "    n_iter = 0\n",
    "    converged = false\n",
    "    while n_iter < maxiter\n",
    "        # Matvec and Rayleigh-Ritz\n",
    "        if n_iter > 0\n",
    "            AR = A * R\n",
    "\n",
    "            if n_iter > 1\n",
    "                Y  = [X R P]\n",
    "                AY = [AX AR AP]\n",
    "            else\n",
    "                Y  = [X R]\n",
    "                AY = [AX AR]\n",
    "            end\n",
    "            cX, λs = rayleigh_ritz(Y, AY, M)\n",
    "\n",
    "            X  = Y  * cX\n",
    "            AX = AY * cX\n",
    "        end\n",
    "\n",
    "        # New residuals\n",
    "        R = AX .- X .* λs'\n",
    "        rnorms = map(norm, eachcol(R))\n",
    "        display_progress && println(\"Iter $n_iter, resid \", rnorms)\n",
    "        converged = maximum(rnorms) < tol\n",
    "        converged && break\n",
    "\n",
    "        # New search direction\n",
    "        if n_iter > 0\n",
    "            cP = copy(cX)\n",
    "            cP[1:M, 1:M] .= cX[1:M, 1:M] - I\n",
    "            cP = qrortho(cP, cX)\n",
    "            P  = Y  * cP\n",
    "            AP = AY * cP\n",
    "        end\n",
    "\n",
    "        # Preconditioning and residual orthonormality\n",
    "        if n_iter > 0\n",
    "            Z = [X P]\n",
    "        else\n",
    "            Z = X\n",
    "        end\n",
    "        R = qrortho(prec \\ R, Z)\n",
    "        \n",
    "        n_iter += 1\n",
    "    end\n",
    "\n",
    "    λ = real(diag(X' * AX))\n",
    "    residuals = AX .- X * Diagonal(λ)\n",
    "    (; X, λ, residuals, residual_norms=norm.(residuals),\n",
    "       converged, n_iter, n_matvec=0)\n",
    "end"
   ]
  },
  {
   "cell_type": "markdown",
   "metadata": {},
   "source": [
    "Applying it to our (rather simple) test problem above, we see that it works, but is horribly slow:"
   ]
  },
  {
   "cell_type": "code",
   "execution_count": 13,
   "metadata": {},
   "outputs": [
    {
     "name": "stdout",
     "output_type": "stream",
     "text": [
      "Iter 0, resid [146.81602809616942]\n",
      "Iter 1, resid [77.17609157354086]\n",
      "Iter 2, resid [44.292790663752164]\n",
      "Iter 3, resid [25.551806140680824]\n",
      "Iter 4, resid [20.143760265908504]\n",
      "Iter 5, resid [14.6858082102675]\n",
      "Iter 6, resid [11.473652725549782]\n",
      "Iter 7, resid [9.817454999009218]\n",
      "Iter 8, resid [8.731627771226488]\n",
      "Iter 9, resid [7.023490706236077]\n",
      "Iter 10, resid [6.401407915673473]\n",
      "Iter 11, resid [5.678276433008404]\n",
      "Iter 12, resid [5.160178109602341]\n",
      "Iter 13, resid [4.314777210617065]\n",
      "Iter 14, resid [3.891712920106008]\n",
      "Iter 15, resid [3.392322003434821]\n",
      "Iter 16, resid [3.4392205643005447]\n",
      "Iter 17, resid [3.664192587008284]\n",
      "Iter 18, resid [3.633314819287929]\n",
      "Iter 19, resid [3.410043581963781]\n",
      "Iter 20, resid [4.034240314294644]\n",
      "Iter 21, resid [4.732286650096888]\n",
      "Iter 22, resid [4.454230151178407]\n",
      "Iter 23, resid [3.7202930201281257]\n",
      "Iter 24, resid [4.356465633948536]\n",
      "Iter 25, resid [3.7086290255655587]\n",
      "Iter 26, resid [3.4424932923481384]\n",
      "Iter 27, resid [3.3977670293753395]\n",
      "Iter 28, resid [2.669852025697589]\n",
      "Iter 29, resid [2.560922706620374]\n",
      "Iter 30, resid [2.4008674548514115]\n",
      "Iter 31, resid [1.8425853631230185]\n",
      "Iter 32, resid [2.1149609520897124]\n",
      "Iter 33, resid [1.442750907074298]\n",
      "Iter 34, resid [2.186238884278214]\n",
      "Iter 35, resid [1.4434381370229774]\n",
      "Iter 36, resid [2.056736760759154]\n",
      "Iter 37, resid [1.3922627353419723]\n",
      "Iter 38, resid [1.816054607868183]\n",
      "Iter 39, resid [1.5698767389323178]\n",
      "Iter 40, resid [1.2637551028755405]\n",
      "Iter 41, resid [1.6092242107932686]\n",
      "Iter 42, resid [1.433954000521478]\n",
      "Iter 43, resid [0.9330449305786501]\n",
      "Iter 44, resid [1.0592841636721193]\n",
      "Iter 45, resid [1.5745706526077374]\n",
      "Iter 46, resid [1.4345834611859187]\n",
      "Iter 47, resid [1.0805911153789483]\n",
      "Iter 48, resid [0.8758976837370747]\n",
      "Iter 49, resid [0.5694769309462968]\n",
      "Iter 50, resid [0.49763672516840296]\n",
      "Iter 51, resid [0.48848443707642647]\n",
      "Iter 52, resid [0.42677413023902533]\n",
      "Iter 53, resid [0.4347943952324013]\n",
      "Iter 54, resid [0.38632429204212726]\n",
      "Iter 55, resid [0.4036287153223127]\n",
      "Iter 56, resid [0.37607460406532817]\n",
      "Iter 57, resid [0.3608436270455882]\n",
      "Iter 58, resid [0.35451357413830215]\n",
      "Iter 59, resid [0.36833068949487696]\n",
      "Iter 60, resid [0.3640197918125614]\n",
      "Iter 61, resid [0.4497341030164092]\n",
      "Iter 62, resid [0.3320278824662185]\n",
      "Iter 63, resid [0.3709698648933437]\n",
      "Iter 64, resid [0.28425488477436023]\n",
      "Iter 65, resid [0.27222551613514634]\n",
      "Iter 66, resid [0.2053663459319671]\n",
      "Iter 67, resid [0.15829126223270967]\n",
      "Iter 68, resid [0.15177268062824484]\n",
      "Iter 69, resid [0.1403459393923444]\n",
      "Iter 70, resid [0.12110800454554299]\n",
      "Iter 71, resid [0.10107155346070995]\n",
      "Iter 72, resid [0.11753603149561763]\n",
      "Iter 73, resid [0.10039788184337475]\n",
      "Iter 74, resid [0.11593561023833229]\n",
      "Iter 75, resid [0.10896945069785872]\n",
      "Iter 76, resid [0.09607668542781536]\n",
      "Iter 77, resid [0.1019069070250277]\n",
      "Iter 78, resid [0.0878577063689148]\n",
      "Iter 79, resid [0.08941549646180665]\n",
      "Iter 80, resid [0.06879226075172377]\n",
      "Iter 81, resid [0.06497035765439767]\n",
      "Iter 82, resid [0.06360416692431574]\n",
      "Iter 83, resid [0.05725885502112913]\n",
      "Iter 84, resid [0.04726733167856889]\n",
      "Iter 85, resid [0.05693521684811366]\n",
      "Iter 86, resid [0.04471154046444087]\n",
      "Iter 87, resid [0.037030158946814815]\n",
      "Iter 88, resid [0.04265168239009856]\n",
      "Iter 89, resid [0.04952900082476743]\n",
      "Iter 90, resid [0.0344240308524021]\n",
      "Iter 91, resid [0.028873499346949223]\n",
      "Iter 92, resid [0.022025989055553377]\n",
      "Iter 93, resid [0.029397420919146204]\n",
      "Iter 94, resid [0.031025639129220912]\n",
      "Iter 95, resid [0.03984047231526345]\n",
      "Iter 96, resid [0.03126221121410928]\n",
      "Iter 97, resid [0.036077965834931815]\n",
      "Iter 98, resid [0.024394084406053555]\n",
      "Iter 99, resid [0.025879306648883663]\n"
     ]
    }
   ],
   "source": [
    "ψ0  = randn(ComplexF64, (size(H, 2), 1))\n",
    "res = lobpcg(H, ψ0; tol=1e-6, display_progress=true);"
   ]
  },
  {
   "cell_type": "markdown",
   "metadata": {},
   "source": [
    "To remedy this we employ preconditioning. As Antoine discussed in the Fourier basis, the kinetic energy operator $-\\frac12\\Delta$ is diagonal:\n",
    "$$\n",
    "\\frac{1}{\\Omega} \\langle e^{-iGx}, -\\frac12\\Delta\\, e^{-i \\widetilde{G} x} \\rangle\n",
    "= \\frac12 |G|^2\\, δ_{G\\widetilde{G}}\n",
    "$$\n",
    "\n",
    "Therefore it is diagonal and a natural preconditioner to employ. Since the kinetic energy of individual orbitals is a bit higher than the lowest (zero) kinetic energy, usually a more balanced preconditioning strategy is\n",
    "$$\n",
    "P^{-1}\\, e^{-i \\widetilde{G} x} = \\frac{1}{α + \\frac12 |G|^2} e^{-i \\widetilde{G} x}\n",
    "$$\n",
    "where $α > 0$ and chosen adaptively for each orbital. Here we just take a fixed $α=0.5$:"
   ]
  },
  {
   "cell_type": "code",
   "execution_count": 14,
   "metadata": {},
   "outputs": [
    {
     "data": {
      "text/plain": [
       "preconditioner (generic function with 1 method)"
      ]
     },
     "execution_count": 14,
     "metadata": {},
     "output_type": "execute_result"
    }
   ],
   "source": [
    "function preconditioner(H)\n",
    "    Gs = Gplusk_vectors_cart(H.basis, H.kpoint)\n",
    "    coefficients = [0.5 + norm(G)^2 / 2 for G in Gs]\n",
    "    Diagonal(coefficients)\n",
    "end"
   ]
  },
  {
   "cell_type": "code",
   "execution_count": 15,
   "metadata": {},
   "outputs": [
    {
     "name": "stdout",
     "output_type": "stream",
     "text": [
      "Iter 0, resid [143.03522478247658]\n",
      "Iter 1, resid [2.529904058394579]\n",
      "Iter 2, resid [1.2716466460188784]\n",
      "Iter 3, resid [0.2694321415981735]\n",
      "Iter 4, resid [0.08911660123376242]\n",
      "Iter 5, resid [0.020838101024314007]\n",
      "Iter 6, resid [0.008247094668859025]\n",
      "Iter 7, resid [0.0013481339231000565]\n",
      "Iter 8, resid [0.0004331792298512439]\n",
      "Iter 9, resid [9.441810632427708e-5]\n",
      "Iter 10, resid [2.028378830264157e-5]\n",
      "Iter 11, resid [3.9731487402986e-6]\n",
      "Iter 12, resid [1.1960340306424805e-6]\n",
      "Iter 13, resid [2.0882816224459347e-7]\n"
     ]
    }
   ],
   "source": [
    "ψ0  = randn(ComplexF64, (size(H, 2), 1))\n",
    "res = lobpcg(H, ψ0; tol=1e-6, display_progress=true, prec=preconditioner(H));"
   ]
  },
  {
   "cell_type": "markdown",
   "metadata": {},
   "source": [
    "## Integrating a custom eigensolver into DFTK\n",
    "\n",
    "More details: https://docs.dftk.org/dev/examples/custom_solvers/\n",
    "\n",
    "\n",
    "We integrate our solver to DFTK, where we can directly apply it to a real problem:"
   ]
  },
  {
   "cell_type": "code",
   "execution_count": 26,
   "metadata": {},
   "outputs": [
    {
     "data": {
      "text/plain": [
       "FlexibleSystem(Si₈, periodic = TTT):\n",
       "    bounding_box      : [    5.43        0        0;\n",
       "                                0     5.43        0;\n",
       "                                0        0     5.43]u\"Å\"\n",
       "\n",
       "    Atom(Si, [       0,        0,        0]u\"Å\")\n",
       "    Atom(Si, [  1.3575,   1.3575,   1.3575]u\"Å\")\n",
       "    Atom(Si, [       0,    2.715,    2.715]u\"Å\")\n",
       "    Atom(Si, [  1.3575,   4.0725,   4.0725]u\"Å\")\n",
       "    Atom(Si, [   2.715,        0,    2.715]u\"Å\")\n",
       "    Atom(Si, [  4.0725,   1.3575,   4.0725]u\"Å\")\n",
       "    Atom(Si, [   2.715,    2.715,        0]u\"Å\")\n",
       "    Atom(Si, [  4.0725,   4.0725,   1.3575]u\"Å\")\n",
       "\n",
       "       .------------.  \n",
       "      /|            |  \n",
       "     / |  Si        |  \n",
       "    *  |            |  \n",
       "    |  |      Si    |  \n",
       "    | Si            |  \n",
       "    |  |  Si    Si  |  \n",
       "    |  .------------.  \n",
       "    | / Si  Si     /   \n",
       "    |/            /    \n",
       "    Si-----------*     \n"
      ]
     },
     "execution_count": 26,
     "metadata": {},
     "output_type": "execute_result"
    }
   ],
   "source": [
    "using ASEconvert\n",
    "using LazyArtifacts\n",
    "\n",
    "ase_Si = ase.build.bulk(\"Si\"; cubic=true)\n",
    "system = attach_psp(pyconvert(AbstractSystem, ase_Si); Si=\"hgh/pbe/Si-q4\")"
   ]
  },
  {
   "cell_type": "markdown",
   "metadata": {},
   "source": [
    "On this system we consider a real DFT problem:"
   ]
  },
  {
   "cell_type": "code",
   "execution_count": 29,
   "metadata": {},
   "outputs": [],
   "source": [
    "model = model_PBE(system)\n",
    "basis = PlaneWaveBasis(model; Ecut=15, kgrid=[1, 1, 1])\n",
    "ρ = guess_density(basis);"
   ]
  },
  {
   "cell_type": "markdown",
   "metadata": {},
   "source": [
    "E.g. we can diagonalise an arising Hamiltonian with our solver:"
   ]
  },
  {
   "cell_type": "code",
   "execution_count": 28,
   "metadata": {},
   "outputs": [
    {
     "name": "stdout",
     "output_type": "stream",
     "text": [
      "Iter 0, resid [3.9123766357054626, 3.994452389735462]\n",
      "Iter 1, resid [1.6212797419116902, 1.6933489919762903]\n",
      "Iter 2, resid [0.5877389555324771, 0.5832398328934292]\n",
      "Iter 3, resid [0.31486073100492007, 0.27754535383859075]\n",
      "Iter 4, resid [0.16253152659008727, 0.14153281883795465]\n",
      "Iter 5, resid [0.07928960422862959, 0.06248527105228496]\n",
      "Iter 6, resid [0.04247951206155342, 0.02886902216013414]\n",
      "Iter 7, resid [0.021173060103309143, 0.015599769417991943]\n",
      "Iter 8, resid [0.008337397139021631, 0.0067977898238137475]\n",
      "Iter 9, resid [0.002499497992611563, 0.0021598653525664183]\n",
      "Iter 10, resid [0.0007217227637900494, 0.00082628637168905]\n",
      "Iter 11, resid [0.00019736932215687914, 0.00033736374899003734]\n",
      "Iter 12, resid [9.268806870314226e-5, 0.00013021660091539638]\n",
      "Iter 13, resid [5.360758854363753e-5, 4.516163704181088e-5]\n"
     ]
    }
   ],
   "source": [
    "E, ham = energy_hamiltonian(basis, nothing, nothing; ρ)\n",
    "H = ham[1];\n",
    "ψ = DFTK.random_orbitals(H.basis, H.kpoint, 2)\n",
    "\n",
    "res = lobpcg(H, ψ; tol=1e-4, display_progress=true, prec=preconditioner(H));"
   ]
  },
  {
   "cell_type": "markdown",
   "metadata": {},
   "source": [
    "or directly integrate it into the full SCF loop:"
   ]
  },
  {
   "cell_type": "code",
   "execution_count": 32,
   "metadata": {},
   "outputs": [
    {
     "name": "stdout",
     "output_type": "stream",
     "text": [
      "n     Energy            log10(ΔE)   log10(Δρ)   Diag   Δtime\n",
      "---   ---------------   ---------   ---------   ----   ------\n",
      "  1   -31.11301542659                   -0.34   12.0    320ms\n",
      "  2   -31.12995780831       -1.77       -1.14    1.0   86.3ms\n",
      "  3   -31.13125412846       -2.89       -2.04    2.0    108ms\n",
      "  4   -31.13106074346   +   -3.71       -2.10   14.0    380ms\n",
      "  5   -31.13136082570       -3.52       -2.70    2.0    111ms\n",
      "  6   -31.13137900566       -4.74       -2.90    5.0    178ms\n",
      "  7   -31.13138255164       -5.45       -3.23    2.0    193ms\n",
      "  8   -31.13138320212       -6.19       -3.48    2.0    403ms\n",
      "  9   -31.13138364267       -6.36       -3.99    4.0    410ms\n",
      " 10   -31.13138366420       -7.67       -4.28    3.0    137ms\n"
     ]
    }
   ],
   "source": [
    "scfres = self_consistent_field(basis; ρ, tol=1e-4, eigensolver=lobpcg);"
   ]
  },
  {
   "cell_type": "markdown",
   "metadata": {},
   "source": [
    "Note that this works immediately on the GPU as well:"
   ]
  },
  {
   "cell_type": "code",
   "execution_count": 33,
   "metadata": {},
   "outputs": [],
   "source": [
    "using CUDA\n",
    "if CUDA.has_cuda()\n",
    "    basis  = PlaneWaveBasis(model; Ecut=15, kgrid=[1, 1, 1], architecture=DFTK.GPU(CuArray))\n",
    "    scfres = self_consistent_field(basis; ol=1e-4, eigensolver=lobpcg,\n",
    "                                   scf_damping_solver(1.0));\n",
    "end"
   ]
  }
 ],
 "metadata": {
  "kernelspec": {
   "display_name": "Julia 1.10.2",
   "language": "julia",
   "name": "julia-1.10"
  },
  "language_info": {
   "file_extension": ".jl",
   "mimetype": "application/julia",
   "name": "julia",
   "version": "1.10.2"
  }
 },
 "nbformat": 4,
 "nbformat_minor": 3
}
